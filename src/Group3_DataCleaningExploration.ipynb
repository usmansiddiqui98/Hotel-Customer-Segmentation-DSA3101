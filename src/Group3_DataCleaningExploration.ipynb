{
 "cells": [
  {
   "cell_type": "code",
   "execution_count": 1,
   "metadata": {
    "id": "ZPsp81QISmNM"
   },
   "outputs": [],
   "source": [
    "import pandas as pd\n",
    "import numpy as np\n",
    "import seaborn as sns\n",
    "import matplotlib.pyplot as plt\n",
    "%matplotlib inline\n",
    "from datetime import datetime, timedelta\n",
    "from pandas import DataFrame\n",
    "import seaborn as sns"
   ]
  },
  {
   "cell_type": "code",
   "execution_count": 2,
   "metadata": {
    "colab": {
     "base_uri": "https://localhost:8080/",
     "height": 73,
     "resources": {
      "http://localhost:8080/nbextensions/google.colab/files.js": {
       "data": "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",
       "headers": [
        [
         "content-type",
         "application/javascript"
        ]
       ],
       "ok": true,
       "status": 200,
       "status_text": ""
      }
     }
    },
    "id": "x0L7HxY1GpJz",
    "outputId": "8091b591-39c2-401c-943c-4832fbd46c5c"
   },
   "outputs": [],
   "source": [
    "df = pd.read_csv(\"C:/Users\\lowji/Desktop/AY2122 S1/DSA3101/Assignment 1/booking_reviews copy.csv\")"
   ]
  },
  {
   "cell_type": "code",
   "execution_count": 3,
   "metadata": {
    "colab": {
     "base_uri": "https://localhost:8080/"
    },
    "id": "dOo2b666UT-v",
    "outputId": "af36d4fb-5e4a-474a-a30d-d4842e80b4ab"
   },
   "outputs": [
    {
     "data": {
      "text/plain": [
       "(26386, 15)"
      ]
     },
     "execution_count": 3,
     "metadata": {},
     "output_type": "execute_result"
    }
   ],
   "source": [
    "df.shape"
   ]
  },
  {
   "cell_type": "code",
   "execution_count": 4,
   "metadata": {
    "colab": {
     "base_uri": "https://localhost:8080/",
     "height": 526
    },
    "id": "mc7Jc2MxMm7T",
    "outputId": "1d7f9937-914d-4c09-fbd2-714bf97c54c8"
   },
   "outputs": [
    {
     "data": {
      "text/html": [
       "<div>\n",
       "<style scoped>\n",
       "    .dataframe tbody tr th:only-of-type {\n",
       "        vertical-align: middle;\n",
       "    }\n",
       "\n",
       "    .dataframe tbody tr th {\n",
       "        vertical-align: top;\n",
       "    }\n",
       "\n",
       "    .dataframe thead th {\n",
       "        text-align: right;\n",
       "    }\n",
       "</style>\n",
       "<table border=\"1\" class=\"dataframe\">\n",
       "  <thead>\n",
       "    <tr style=\"text-align: right;\">\n",
       "      <th></th>\n",
       "      <th>review_title</th>\n",
       "      <th>reviewed_at</th>\n",
       "      <th>reviewed_by</th>\n",
       "      <th>images</th>\n",
       "      <th>crawled_at</th>\n",
       "      <th>url</th>\n",
       "      <th>hotel_name</th>\n",
       "      <th>hotel_url</th>\n",
       "      <th>avg_rating</th>\n",
       "      <th>nationality</th>\n",
       "      <th>rating</th>\n",
       "      <th>review_text</th>\n",
       "      <th>raw_review_text</th>\n",
       "      <th>tags</th>\n",
       "      <th>meta</th>\n",
       "    </tr>\n",
       "  </thead>\n",
       "  <tbody>\n",
       "    <tr>\n",
       "      <th>0</th>\n",
       "      <td>Exceptional</td>\n",
       "      <td>11 July 2021</td>\n",
       "      <td>Kyrylo</td>\n",
       "      <td>NaN</td>\n",
       "      <td>07/20/2021, 01:09:27</td>\n",
       "      <td>https://www.booking.com/reviews/be/hotel/villa...</td>\n",
       "      <td>Villa Pura Vida</td>\n",
       "      <td>https://www.booking.com/hotel/be/villa-pura-vi...</td>\n",
       "      <td>9.7</td>\n",
       "      <td>Poland</td>\n",
       "      <td>10.0</td>\n",
       "      <td>Everything was perfect! Quite, cozy place to r...</td>\n",
       "      <td>&lt;p class=\"review_pos \"&gt;&lt;svg aria-label=\"Positi...</td>\n",
       "      <td>Business trip~Solo traveller~Junior Suite~Stay...</td>\n",
       "      <td>{'language': 'en-gb', 'source': 'https://www.b...</td>\n",
       "    </tr>\n",
       "    <tr>\n",
       "      <th>1</th>\n",
       "      <td>I highly recommend this b&amp;b! We enjoyed it a lot!</td>\n",
       "      <td>24 November 2019</td>\n",
       "      <td>Dimitri</td>\n",
       "      <td>NaN</td>\n",
       "      <td>07/20/2021, 01:09:27</td>\n",
       "      <td>https://www.booking.com/reviews/be/hotel/villa...</td>\n",
       "      <td>Villa Pura Vida</td>\n",
       "      <td>https://www.booking.com/hotel/be/villa-pura-vi...</td>\n",
       "      <td>9.7</td>\n",
       "      <td>Belgium</td>\n",
       "      <td>9.0</td>\n",
       "      <td>Very friendly host and perfect breakfast!</td>\n",
       "      <td>&lt;p class=\"review_pos \"&gt;&lt;svg aria-label=\"Positi...</td>\n",
       "      <td>Leisure trip~Couple~Deluxe Suite~Stayed 1 nigh...</td>\n",
       "      <td>{'language': 'en-gb', 'source': 'https://www.b...</td>\n",
       "    </tr>\n",
       "    <tr>\n",
       "      <th>2</th>\n",
       "      <td>Exceptional</td>\n",
       "      <td>3 January 2020</td>\n",
       "      <td>Virginia</td>\n",
       "      <td>NaN</td>\n",
       "      <td>07/20/2021, 01:09:27</td>\n",
       "      <td>https://www.booking.com/reviews/be/hotel/hydro...</td>\n",
       "      <td>Hydro Palace Apartment</td>\n",
       "      <td>https://www.booking.com/hotel/be/hydro-palace....</td>\n",
       "      <td>9.2</td>\n",
       "      <td>United Kingdom</td>\n",
       "      <td>10.0</td>\n",
       "      <td>It was just what we wanted for a week by the b...</td>\n",
       "      <td>&lt;p class=\"review_neg \"&gt;&lt;svg aria-label=\"Negati...</td>\n",
       "      <td>Leisure trip~Couple~Apartment with Sea View~St...</td>\n",
       "      <td>{'language': 'en-gb', 'source': 'https://www.b...</td>\n",
       "    </tr>\n",
       "    <tr>\n",
       "      <th>3</th>\n",
       "      <td>My stay in the house was a experiencing bliss ...</td>\n",
       "      <td>8 September 2019</td>\n",
       "      <td>Kannan</td>\n",
       "      <td>NaN</td>\n",
       "      <td>07/20/2021, 01:09:28</td>\n",
       "      <td>https://www.booking.com/reviews/be/hotel/villa...</td>\n",
       "      <td>Villa Pura Vida</td>\n",
       "      <td>https://www.booking.com/hotel/be/villa-pura-vi...</td>\n",
       "      <td>9.7</td>\n",
       "      <td>Netherlands</td>\n",
       "      <td>10.0</td>\n",
       "      <td>My stay in the house was a experiencing bliss ...</td>\n",
       "      <td>&lt;p class=\"review_pos \"&gt;&lt;svg aria-label=\"Positi...</td>\n",
       "      <td>Business trip~Solo traveller~Junior Suite~Stay...</td>\n",
       "      <td>{'language': 'en-gb', 'source': 'https://www.b...</td>\n",
       "    </tr>\n",
       "    <tr>\n",
       "      <th>4</th>\n",
       "      <td>One bedroom apartment with wonderful view and ...</td>\n",
       "      <td>23 June 2019</td>\n",
       "      <td>Sue</td>\n",
       "      <td>https://cf.bstatic.com/xdata/images/xphoto/squ...</td>\n",
       "      <td>07/20/2021, 01:09:28</td>\n",
       "      <td>https://www.booking.com/reviews/be/hotel/hydro...</td>\n",
       "      <td>Hydro Palace Apartment</td>\n",
       "      <td>https://www.booking.com/hotel/be/hydro-palace....</td>\n",
       "      <td>9.2</td>\n",
       "      <td>South Africa</td>\n",
       "      <td>9.2</td>\n",
       "      <td>The building itself has a very musty smell in ...</td>\n",
       "      <td>&lt;p class=\"review_neg \"&gt;&lt;svg aria-label=\"Negati...</td>\n",
       "      <td>Leisure trip~People with friends~Apartment wit...</td>\n",
       "      <td>{'language': 'en-gb', 'source': 'https://www.b...</td>\n",
       "    </tr>\n",
       "  </tbody>\n",
       "</table>\n",
       "</div>"
      ],
      "text/plain": [
       "                                        review_title       reviewed_at  \\\n",
       "0                                        Exceptional      11 July 2021   \n",
       "1  I highly recommend this b&b! We enjoyed it a lot!  24 November 2019   \n",
       "2                                        Exceptional    3 January 2020   \n",
       "3  My stay in the house was a experiencing bliss ...  8 September 2019   \n",
       "4  One bedroom apartment with wonderful view and ...      23 June 2019   \n",
       "\n",
       "  reviewed_by                                             images  \\\n",
       "0      Kyrylo                                                NaN   \n",
       "1     Dimitri                                                NaN   \n",
       "2    Virginia                                                NaN   \n",
       "3      Kannan                                                NaN   \n",
       "4         Sue  https://cf.bstatic.com/xdata/images/xphoto/squ...   \n",
       "\n",
       "             crawled_at                                                url  \\\n",
       "0  07/20/2021, 01:09:27  https://www.booking.com/reviews/be/hotel/villa...   \n",
       "1  07/20/2021, 01:09:27  https://www.booking.com/reviews/be/hotel/villa...   \n",
       "2  07/20/2021, 01:09:27  https://www.booking.com/reviews/be/hotel/hydro...   \n",
       "3  07/20/2021, 01:09:28  https://www.booking.com/reviews/be/hotel/villa...   \n",
       "4  07/20/2021, 01:09:28  https://www.booking.com/reviews/be/hotel/hydro...   \n",
       "\n",
       "               hotel_name                                          hotel_url  \\\n",
       "0         Villa Pura Vida  https://www.booking.com/hotel/be/villa-pura-vi...   \n",
       "1         Villa Pura Vida  https://www.booking.com/hotel/be/villa-pura-vi...   \n",
       "2  Hydro Palace Apartment  https://www.booking.com/hotel/be/hydro-palace....   \n",
       "3         Villa Pura Vida  https://www.booking.com/hotel/be/villa-pura-vi...   \n",
       "4  Hydro Palace Apartment  https://www.booking.com/hotel/be/hydro-palace....   \n",
       "\n",
       "   avg_rating     nationality  rating  \\\n",
       "0         9.7          Poland    10.0   \n",
       "1         9.7         Belgium     9.0   \n",
       "2         9.2  United Kingdom    10.0   \n",
       "3         9.7     Netherlands    10.0   \n",
       "4         9.2    South Africa     9.2   \n",
       "\n",
       "                                         review_text  \\\n",
       "0  Everything was perfect! Quite, cozy place to r...   \n",
       "1          Very friendly host and perfect breakfast!   \n",
       "2  It was just what we wanted for a week by the b...   \n",
       "3  My stay in the house was a experiencing bliss ...   \n",
       "4  The building itself has a very musty smell in ...   \n",
       "\n",
       "                                     raw_review_text  \\\n",
       "0  <p class=\"review_pos \"><svg aria-label=\"Positi...   \n",
       "1  <p class=\"review_pos \"><svg aria-label=\"Positi...   \n",
       "2  <p class=\"review_neg \"><svg aria-label=\"Negati...   \n",
       "3  <p class=\"review_pos \"><svg aria-label=\"Positi...   \n",
       "4  <p class=\"review_neg \"><svg aria-label=\"Negati...   \n",
       "\n",
       "                                                tags  \\\n",
       "0  Business trip~Solo traveller~Junior Suite~Stay...   \n",
       "1  Leisure trip~Couple~Deluxe Suite~Stayed 1 nigh...   \n",
       "2  Leisure trip~Couple~Apartment with Sea View~St...   \n",
       "3  Business trip~Solo traveller~Junior Suite~Stay...   \n",
       "4  Leisure trip~People with friends~Apartment wit...   \n",
       "\n",
       "                                                meta  \n",
       "0  {'language': 'en-gb', 'source': 'https://www.b...  \n",
       "1  {'language': 'en-gb', 'source': 'https://www.b...  \n",
       "2  {'language': 'en-gb', 'source': 'https://www.b...  \n",
       "3  {'language': 'en-gb', 'source': 'https://www.b...  \n",
       "4  {'language': 'en-gb', 'source': 'https://www.b...  "
      ]
     },
     "execution_count": 4,
     "metadata": {},
     "output_type": "execute_result"
    }
   ],
   "source": [
    "df.head()"
   ]
  },
  {
   "cell_type": "code",
   "execution_count": 5,
   "metadata": {
    "id": "zPM3-YuVQOOO"
   },
   "outputs": [],
   "source": [
    "#Drop redundant columns\n",
    "df = df.drop(['images','crawled_at','url', 'hotel_url','meta'] , 1)"
   ]
  },
  {
   "cell_type": "code",
   "execution_count": 6,
   "metadata": {
    "colab": {
     "base_uri": "https://localhost:8080/"
    },
    "id": "rjhP9JAqeUcH",
    "outputId": "2f467e19-d432-437c-afed-9ee437664286"
   },
   "outputs": [
    {
     "data": {
      "text/plain": [
       "review_title        object\n",
       "reviewed_at         object\n",
       "reviewed_by         object\n",
       "hotel_name          object\n",
       "avg_rating         float64\n",
       "nationality         object\n",
       "rating             float64\n",
       "review_text         object\n",
       "raw_review_text     object\n",
       "tags                object\n",
       "dtype: object"
      ]
     },
     "execution_count": 6,
     "metadata": {},
     "output_type": "execute_result"
    }
   ],
   "source": [
    "df.dtypes"
   ]
  },
  {
   "cell_type": "code",
   "execution_count": 7,
   "metadata": {
    "colab": {
     "base_uri": "https://localhost:8080/"
    },
    "id": "JquJrGYlWF6e",
    "outputId": "779ad2dc-4d6e-4c06-c316-b6b5370514f0"
   },
   "outputs": [
    {
     "data": {
      "text/plain": [
       "review_title        8683\n",
       "reviewed_at         1056\n",
       "reviewed_by         8396\n",
       "hotel_name           819\n",
       "nationality          163\n",
       "review_text        18507\n",
       "raw_review_text    18536\n",
       "tags                8121\n",
       "dtype: int64"
      ]
     },
     "execution_count": 7,
     "metadata": {},
     "output_type": "execute_result"
    }
   ],
   "source": [
    "# Inspect the categorical variables\n",
    "df.select_dtypes('object').nunique()"
   ]
  },
  {
   "cell_type": "code",
   "execution_count": 8,
   "metadata": {
    "colab": {
     "base_uri": "https://localhost:8080/",
     "height": 295
    },
    "id": "K0R2fzfuWSRC",
    "outputId": "a2b819ed-5927-4490-c925-fbf5240afe97"
   },
   "outputs": [
    {
     "data": {
      "text/html": [
       "<div>\n",
       "<style scoped>\n",
       "    .dataframe tbody tr th:only-of-type {\n",
       "        vertical-align: middle;\n",
       "    }\n",
       "\n",
       "    .dataframe tbody tr th {\n",
       "        vertical-align: top;\n",
       "    }\n",
       "\n",
       "    .dataframe thead th {\n",
       "        text-align: right;\n",
       "    }\n",
       "</style>\n",
       "<table border=\"1\" class=\"dataframe\">\n",
       "  <thead>\n",
       "    <tr style=\"text-align: right;\">\n",
       "      <th></th>\n",
       "      <th>avg_rating</th>\n",
       "      <th>rating</th>\n",
       "    </tr>\n",
       "  </thead>\n",
       "  <tbody>\n",
       "    <tr>\n",
       "      <th>count</th>\n",
       "      <td>26386.000000</td>\n",
       "      <td>26386.000000</td>\n",
       "    </tr>\n",
       "    <tr>\n",
       "      <th>mean</th>\n",
       "      <td>8.449242</td>\n",
       "      <td>8.560669</td>\n",
       "    </tr>\n",
       "    <tr>\n",
       "      <th>std</th>\n",
       "      <td>0.716427</td>\n",
       "      <td>1.566554</td>\n",
       "    </tr>\n",
       "    <tr>\n",
       "      <th>min</th>\n",
       "      <td>3.800000</td>\n",
       "      <td>1.000000</td>\n",
       "    </tr>\n",
       "    <tr>\n",
       "      <th>25%</th>\n",
       "      <td>8.100000</td>\n",
       "      <td>7.900000</td>\n",
       "    </tr>\n",
       "    <tr>\n",
       "      <th>50%</th>\n",
       "      <td>8.500000</td>\n",
       "      <td>9.000000</td>\n",
       "    </tr>\n",
       "    <tr>\n",
       "      <th>75%</th>\n",
       "      <td>8.900000</td>\n",
       "      <td>10.000000</td>\n",
       "    </tr>\n",
       "    <tr>\n",
       "      <th>max</th>\n",
       "      <td>10.000000</td>\n",
       "      <td>10.000000</td>\n",
       "    </tr>\n",
       "  </tbody>\n",
       "</table>\n",
       "</div>"
      ],
      "text/plain": [
       "         avg_rating        rating\n",
       "count  26386.000000  26386.000000\n",
       "mean       8.449242      8.560669\n",
       "std        0.716427      1.566554\n",
       "min        3.800000      1.000000\n",
       "25%        8.100000      7.900000\n",
       "50%        8.500000      9.000000\n",
       "75%        8.900000     10.000000\n",
       "max       10.000000     10.000000"
      ]
     },
     "execution_count": 8,
     "metadata": {},
     "output_type": "execute_result"
    }
   ],
   "source": [
    "# Inspect the numerical variables\n",
    "df.describe()"
   ]
  },
  {
   "cell_type": "code",
   "execution_count": 9,
   "metadata": {
    "colab": {
     "base_uri": "https://localhost:8080/"
    },
    "id": "SH7Hcet1WmBF",
    "outputId": "8b97d6e3-23f0-42e2-fe99-42618effaad5"
   },
   "outputs": [
    {
     "data": {
      "text/plain": [
       "review_title        1\n",
       "reviewed_at         0\n",
       "reviewed_by         0\n",
       "hotel_name          0\n",
       "avg_rating          0\n",
       "nationality        16\n",
       "rating              0\n",
       "review_text         0\n",
       "raw_review_text     0\n",
       "tags                0\n",
       "dtype: int64"
      ]
     },
     "execution_count": 9,
     "metadata": {},
     "output_type": "execute_result"
    }
   ],
   "source": [
    "# Check missing value\n",
    "df.isna().sum()"
   ]
  },
  {
   "cell_type": "code",
   "execution_count": 10,
   "metadata": {
    "colab": {
     "base_uri": "https://localhost:8080/"
    },
    "id": "QoFqjWge2bj9",
    "outputId": "9092414e-257a-44d4-ee27-fabdd2ae8831"
   },
   "outputs": [
    {
     "data": {
      "text/plain": [
       "review_title       0\n",
       "reviewed_at        0\n",
       "reviewed_by        0\n",
       "hotel_name         0\n",
       "avg_rating         0\n",
       "nationality        0\n",
       "rating             0\n",
       "review_text        0\n",
       "raw_review_text    0\n",
       "tags               0\n",
       "dtype: int64"
      ]
     },
     "execution_count": 10,
     "metadata": {},
     "output_type": "execute_result"
    }
   ],
   "source": [
    "# Drop NA and duplicates\n",
    "df = df.dropna().drop_duplicates(keep='first')\n",
    "df.isna().sum()"
   ]
  },
  {
   "cell_type": "code",
   "execution_count": 11,
   "metadata": {
    "colab": {
     "base_uri": "https://localhost:8080/",
     "height": 321
    },
    "id": "IISR-ZE2sV3D",
    "outputId": "7378f6ee-15d1-443c-9309-1d6027f84e40"
   },
   "outputs": [
    {
     "data": {
      "text/html": [
       "<div>\n",
       "<style scoped>\n",
       "    .dataframe tbody tr th:only-of-type {\n",
       "        vertical-align: middle;\n",
       "    }\n",
       "\n",
       "    .dataframe tbody tr th {\n",
       "        vertical-align: top;\n",
       "    }\n",
       "\n",
       "    .dataframe thead th {\n",
       "        text-align: right;\n",
       "    }\n",
       "</style>\n",
       "<table border=\"1\" class=\"dataframe\">\n",
       "  <thead>\n",
       "    <tr style=\"text-align: right;\">\n",
       "      <th></th>\n",
       "      <th>review_title</th>\n",
       "      <th>reviewed_at</th>\n",
       "      <th>reviewed_by</th>\n",
       "      <th>hotel_name</th>\n",
       "      <th>avg_rating</th>\n",
       "      <th>nationality</th>\n",
       "      <th>rating</th>\n",
       "      <th>review_text</th>\n",
       "      <th>raw_review_text</th>\n",
       "      <th>tags</th>\n",
       "      <th>quarter</th>\n",
       "    </tr>\n",
       "  </thead>\n",
       "  <tbody>\n",
       "    <tr>\n",
       "      <th>0</th>\n",
       "      <td>Exceptional</td>\n",
       "      <td>2021-07-11</td>\n",
       "      <td>Kyrylo</td>\n",
       "      <td>Villa Pura Vida</td>\n",
       "      <td>9.7</td>\n",
       "      <td>Poland</td>\n",
       "      <td>10.0</td>\n",
       "      <td>Everything was perfect! Quite, cozy place to r...</td>\n",
       "      <td>&lt;p class=\"review_pos \"&gt;&lt;svg aria-label=\"Positi...</td>\n",
       "      <td>Business trip~Solo traveller~Junior Suite~Stay...</td>\n",
       "      <td>3</td>\n",
       "    </tr>\n",
       "    <tr>\n",
       "      <th>1</th>\n",
       "      <td>I highly recommend this b&amp;b! We enjoyed it a lot!</td>\n",
       "      <td>2019-11-24</td>\n",
       "      <td>Dimitri</td>\n",
       "      <td>Villa Pura Vida</td>\n",
       "      <td>9.7</td>\n",
       "      <td>Belgium</td>\n",
       "      <td>9.0</td>\n",
       "      <td>Very friendly host and perfect breakfast!</td>\n",
       "      <td>&lt;p class=\"review_pos \"&gt;&lt;svg aria-label=\"Positi...</td>\n",
       "      <td>Leisure trip~Couple~Deluxe Suite~Stayed 1 nigh...</td>\n",
       "      <td>4</td>\n",
       "    </tr>\n",
       "    <tr>\n",
       "      <th>2</th>\n",
       "      <td>Exceptional</td>\n",
       "      <td>2020-01-03</td>\n",
       "      <td>Virginia</td>\n",
       "      <td>Hydro Palace Apartment</td>\n",
       "      <td>9.2</td>\n",
       "      <td>United Kingdom</td>\n",
       "      <td>10.0</td>\n",
       "      <td>It was just what we wanted for a week by the b...</td>\n",
       "      <td>&lt;p class=\"review_neg \"&gt;&lt;svg aria-label=\"Negati...</td>\n",
       "      <td>Leisure trip~Couple~Apartment with Sea View~St...</td>\n",
       "      <td>1</td>\n",
       "    </tr>\n",
       "    <tr>\n",
       "      <th>3</th>\n",
       "      <td>My stay in the house was a experiencing bliss ...</td>\n",
       "      <td>2019-09-08</td>\n",
       "      <td>Kannan</td>\n",
       "      <td>Villa Pura Vida</td>\n",
       "      <td>9.7</td>\n",
       "      <td>Netherlands</td>\n",
       "      <td>10.0</td>\n",
       "      <td>My stay in the house was a experiencing bliss ...</td>\n",
       "      <td>&lt;p class=\"review_pos \"&gt;&lt;svg aria-label=\"Positi...</td>\n",
       "      <td>Business trip~Solo traveller~Junior Suite~Stay...</td>\n",
       "      <td>3</td>\n",
       "    </tr>\n",
       "    <tr>\n",
       "      <th>4</th>\n",
       "      <td>One bedroom apartment with wonderful view and ...</td>\n",
       "      <td>2019-06-23</td>\n",
       "      <td>Sue</td>\n",
       "      <td>Hydro Palace Apartment</td>\n",
       "      <td>9.2</td>\n",
       "      <td>South Africa</td>\n",
       "      <td>9.2</td>\n",
       "      <td>The building itself has a very musty smell in ...</td>\n",
       "      <td>&lt;p class=\"review_neg \"&gt;&lt;svg aria-label=\"Negati...</td>\n",
       "      <td>Leisure trip~People with friends~Apartment wit...</td>\n",
       "      <td>2</td>\n",
       "    </tr>\n",
       "  </tbody>\n",
       "</table>\n",
       "</div>"
      ],
      "text/plain": [
       "                                        review_title reviewed_at reviewed_by  \\\n",
       "0                                        Exceptional  2021-07-11      Kyrylo   \n",
       "1  I highly recommend this b&b! We enjoyed it a lot!  2019-11-24     Dimitri   \n",
       "2                                        Exceptional  2020-01-03    Virginia   \n",
       "3  My stay in the house was a experiencing bliss ...  2019-09-08      Kannan   \n",
       "4  One bedroom apartment with wonderful view and ...  2019-06-23         Sue   \n",
       "\n",
       "               hotel_name  avg_rating     nationality  rating  \\\n",
       "0         Villa Pura Vida         9.7          Poland    10.0   \n",
       "1         Villa Pura Vida         9.7         Belgium     9.0   \n",
       "2  Hydro Palace Apartment         9.2  United Kingdom    10.0   \n",
       "3         Villa Pura Vida         9.7     Netherlands    10.0   \n",
       "4  Hydro Palace Apartment         9.2    South Africa     9.2   \n",
       "\n",
       "                                         review_text  \\\n",
       "0  Everything was perfect! Quite, cozy place to r...   \n",
       "1          Very friendly host and perfect breakfast!   \n",
       "2  It was just what we wanted for a week by the b...   \n",
       "3  My stay in the house was a experiencing bliss ...   \n",
       "4  The building itself has a very musty smell in ...   \n",
       "\n",
       "                                     raw_review_text  \\\n",
       "0  <p class=\"review_pos \"><svg aria-label=\"Positi...   \n",
       "1  <p class=\"review_pos \"><svg aria-label=\"Positi...   \n",
       "2  <p class=\"review_neg \"><svg aria-label=\"Negati...   \n",
       "3  <p class=\"review_pos \"><svg aria-label=\"Positi...   \n",
       "4  <p class=\"review_neg \"><svg aria-label=\"Negati...   \n",
       "\n",
       "                                                tags quarter  \n",
       "0  Business trip~Solo traveller~Junior Suite~Stay...       3  \n",
       "1  Leisure trip~Couple~Deluxe Suite~Stayed 1 nigh...       4  \n",
       "2  Leisure trip~Couple~Apartment with Sea View~St...       1  \n",
       "3  Business trip~Solo traveller~Junior Suite~Stay...       3  \n",
       "4  Leisure trip~People with friends~Apartment wit...       2  "
      ]
     },
     "execution_count": 11,
     "metadata": {},
     "output_type": "execute_result"
    }
   ],
   "source": [
    "# Quarter of the year column\n",
    "df['reviewed_at'] = pd.to_datetime(df['reviewed_at'])\n",
    "df['quarter'] = df['reviewed_at'].dt.quarter\n",
    "df['quarter'] = df['quarter'].astype('category')\n",
    "df.head()"
   ]
  },
  {
   "cell_type": "code",
   "execution_count": 12,
   "metadata": {
    "colab": {
     "base_uri": "https://localhost:8080/"
    },
    "id": "v2MsjAeR7fEV",
    "outputId": "b8a46112-3d0b-4b12-c967-560f2de75de2"
   },
   "outputs": [
    {
     "data": {
      "text/plain": [
       "hotel_type\n",
       "Others             426\n",
       "Hotel              199\n",
       "Bed & Breakfast    117\n",
       "Apartment           41\n",
       "Guest House         16\n",
       "Hostel              12\n",
       "Chalet               7\n",
       "Motel                1\n",
       "dtype: int64"
      ]
     },
     "execution_count": 12,
     "metadata": {},
     "output_type": "execute_result"
    }
   ],
   "source": [
    "# Hotel type column\n",
    "conditions = [\n",
    "    (df['hotel_name'].str.contains('hotel', case=False)),\n",
    "    (df['hotel_name'].str.contains('hostel', case=False)),\n",
    "    (df['hotel_name'].str.contains('motel', case=False)),\n",
    "    (df['hotel_name'].str.contains('b&b|bed & breakfast', case=False)),\n",
    "    (df['hotel_name'].str.contains('guesthouse|guest house', case=False)),\n",
    "    (df['hotel_name'].str.contains('apartment', case=False)),\n",
    "    (df['hotel_name'].str.contains('chalet', case=False))\n",
    "]\n",
    "\n",
    "values = ['Hotel', 'Hostel', 'Motel','Bed & Breakfast', 'Guest House','Apartment','Chalet']\n",
    "\n",
    "df['hotel_type'] = np.select(conditions, values, default='Others')\n",
    "\n",
    "df.drop_duplicates(subset=['hotel_name'], keep='first').value_counts('hotel_type')"
   ]
  },
  {
   "cell_type": "code",
   "execution_count": 13,
   "metadata": {
    "colab": {
     "base_uri": "https://localhost:8080/"
    },
    "id": "sGGWKcdtFPFq",
    "outputId": "cb1dfa13-2e78-422b-96ce-6c793a941f73"
   },
   "outputs": [
    {
     "name": "stdout",
     "output_type": "stream",
     "text": [
      "hotel_type\n",
      "Apartment            744\n",
      "Bed & Breakfast     2067\n",
      "Chalet                61\n",
      "Guest House          387\n",
      "Hostel              1271\n",
      "Hotel              12170\n",
      "Motel                845\n",
      "Others              8817\n",
      "dtype: int64\n"
     ]
    }
   ],
   "source": [
    "# Check hotel type column\n",
    "print(df.groupby('hotel_type').size())"
   ]
  },
  {
   "cell_type": "code",
   "execution_count": 14,
   "metadata": {
    "id": "PsYk71LQ7wEp"
   },
   "outputs": [],
   "source": [
    "# Nights stayed, room type, traveller type, trip type columns\n",
    "df['tags'] = df['tags'].replace({'~Submitted via mobile': '', 'With a pet~': ''}, regex=True)\n",
    "foo = lambda x: pd.Series([i for i in reversed(x.split('~'))])\n",
    "df[['nights_stayed', 'room_type', 'traveller_type', 'trip_type']] = df['tags'].apply(foo)\n",
    "df = df.drop(['tags', 'trip_type'], 1)"
   ]
  },
  {
   "cell_type": "code",
   "execution_count": 15,
   "metadata": {
    "colab": {
     "base_uri": "https://localhost:8080/",
     "height": 472
    },
    "id": "ktQ-BXK5RXwP",
    "outputId": "fb574be8-5dd0-440f-f6d0-2b555c04d694"
   },
   "outputs": [
    {
     "data": {
      "text/html": [
       "<div>\n",
       "<style scoped>\n",
       "    .dataframe tbody tr th:only-of-type {\n",
       "        vertical-align: middle;\n",
       "    }\n",
       "\n",
       "    .dataframe tbody tr th {\n",
       "        vertical-align: top;\n",
       "    }\n",
       "\n",
       "    .dataframe thead th {\n",
       "        text-align: right;\n",
       "    }\n",
       "</style>\n",
       "<table border=\"1\" class=\"dataframe\">\n",
       "  <thead>\n",
       "    <tr style=\"text-align: right;\">\n",
       "      <th></th>\n",
       "      <th>review_title</th>\n",
       "      <th>reviewed_at</th>\n",
       "      <th>reviewed_by</th>\n",
       "      <th>hotel_name</th>\n",
       "      <th>avg_rating</th>\n",
       "      <th>nationality</th>\n",
       "      <th>rating</th>\n",
       "      <th>review_text</th>\n",
       "      <th>raw_review_text</th>\n",
       "      <th>quarter</th>\n",
       "      <th>hotel_type</th>\n",
       "      <th>nights_stayed</th>\n",
       "      <th>room_type</th>\n",
       "      <th>traveller_type</th>\n",
       "    </tr>\n",
       "  </thead>\n",
       "  <tbody>\n",
       "    <tr>\n",
       "      <th>0</th>\n",
       "      <td>Exceptional</td>\n",
       "      <td>2021-07-11</td>\n",
       "      <td>Kyrylo</td>\n",
       "      <td>Villa Pura Vida</td>\n",
       "      <td>9.7</td>\n",
       "      <td>Poland</td>\n",
       "      <td>10.0</td>\n",
       "      <td>Everything was perfect! Quite, cozy place to r...</td>\n",
       "      <td>&lt;p class=\"review_pos \"&gt;&lt;svg aria-label=\"Positi...</td>\n",
       "      <td>3</td>\n",
       "      <td>Others</td>\n",
       "      <td>1</td>\n",
       "      <td>Junior Suite</td>\n",
       "      <td>Solo traveller</td>\n",
       "    </tr>\n",
       "    <tr>\n",
       "      <th>1</th>\n",
       "      <td>I highly recommend this b&amp;b! We enjoyed it a lot!</td>\n",
       "      <td>2019-11-24</td>\n",
       "      <td>Dimitri</td>\n",
       "      <td>Villa Pura Vida</td>\n",
       "      <td>9.7</td>\n",
       "      <td>Belgium</td>\n",
       "      <td>9.0</td>\n",
       "      <td>Very friendly host and perfect breakfast!</td>\n",
       "      <td>&lt;p class=\"review_pos \"&gt;&lt;svg aria-label=\"Positi...</td>\n",
       "      <td>4</td>\n",
       "      <td>Others</td>\n",
       "      <td>1</td>\n",
       "      <td>Deluxe Suite</td>\n",
       "      <td>Couple</td>\n",
       "    </tr>\n",
       "    <tr>\n",
       "      <th>2</th>\n",
       "      <td>Exceptional</td>\n",
       "      <td>2020-01-03</td>\n",
       "      <td>Virginia</td>\n",
       "      <td>Hydro Palace Apartment</td>\n",
       "      <td>9.2</td>\n",
       "      <td>United Kingdom</td>\n",
       "      <td>10.0</td>\n",
       "      <td>It was just what we wanted for a week by the b...</td>\n",
       "      <td>&lt;p class=\"review_neg \"&gt;&lt;svg aria-label=\"Negati...</td>\n",
       "      <td>1</td>\n",
       "      <td>Apartment</td>\n",
       "      <td>6</td>\n",
       "      <td>Apartment with Sea View</td>\n",
       "      <td>Couple</td>\n",
       "    </tr>\n",
       "    <tr>\n",
       "      <th>3</th>\n",
       "      <td>My stay in the house was a experiencing bliss ...</td>\n",
       "      <td>2019-09-08</td>\n",
       "      <td>Kannan</td>\n",
       "      <td>Villa Pura Vida</td>\n",
       "      <td>9.7</td>\n",
       "      <td>Netherlands</td>\n",
       "      <td>10.0</td>\n",
       "      <td>My stay in the house was a experiencing bliss ...</td>\n",
       "      <td>&lt;p class=\"review_pos \"&gt;&lt;svg aria-label=\"Positi...</td>\n",
       "      <td>3</td>\n",
       "      <td>Others</td>\n",
       "      <td>4</td>\n",
       "      <td>Junior Suite</td>\n",
       "      <td>Solo traveller</td>\n",
       "    </tr>\n",
       "    <tr>\n",
       "      <th>4</th>\n",
       "      <td>One bedroom apartment with wonderful view and ...</td>\n",
       "      <td>2019-06-23</td>\n",
       "      <td>Sue</td>\n",
       "      <td>Hydro Palace Apartment</td>\n",
       "      <td>9.2</td>\n",
       "      <td>South Africa</td>\n",
       "      <td>9.2</td>\n",
       "      <td>The building itself has a very musty smell in ...</td>\n",
       "      <td>&lt;p class=\"review_neg \"&gt;&lt;svg aria-label=\"Negati...</td>\n",
       "      <td>2</td>\n",
       "      <td>Apartment</td>\n",
       "      <td>4</td>\n",
       "      <td>Apartment with Sea View</td>\n",
       "      <td>People with friends</td>\n",
       "    </tr>\n",
       "  </tbody>\n",
       "</table>\n",
       "</div>"
      ],
      "text/plain": [
       "                                        review_title reviewed_at reviewed_by  \\\n",
       "0                                        Exceptional  2021-07-11      Kyrylo   \n",
       "1  I highly recommend this b&b! We enjoyed it a lot!  2019-11-24     Dimitri   \n",
       "2                                        Exceptional  2020-01-03    Virginia   \n",
       "3  My stay in the house was a experiencing bliss ...  2019-09-08      Kannan   \n",
       "4  One bedroom apartment with wonderful view and ...  2019-06-23         Sue   \n",
       "\n",
       "               hotel_name  avg_rating     nationality  rating  \\\n",
       "0         Villa Pura Vida         9.7          Poland    10.0   \n",
       "1         Villa Pura Vida         9.7         Belgium     9.0   \n",
       "2  Hydro Palace Apartment         9.2  United Kingdom    10.0   \n",
       "3         Villa Pura Vida         9.7     Netherlands    10.0   \n",
       "4  Hydro Palace Apartment         9.2    South Africa     9.2   \n",
       "\n",
       "                                         review_text  \\\n",
       "0  Everything was perfect! Quite, cozy place to r...   \n",
       "1          Very friendly host and perfect breakfast!   \n",
       "2  It was just what we wanted for a week by the b...   \n",
       "3  My stay in the house was a experiencing bliss ...   \n",
       "4  The building itself has a very musty smell in ...   \n",
       "\n",
       "                                     raw_review_text quarter hotel_type  \\\n",
       "0  <p class=\"review_pos \"><svg aria-label=\"Positi...       3     Others   \n",
       "1  <p class=\"review_pos \"><svg aria-label=\"Positi...       4     Others   \n",
       "2  <p class=\"review_neg \"><svg aria-label=\"Negati...       1  Apartment   \n",
       "3  <p class=\"review_pos \"><svg aria-label=\"Positi...       3     Others   \n",
       "4  <p class=\"review_neg \"><svg aria-label=\"Negati...       2  Apartment   \n",
       "\n",
       "   nights_stayed                room_type       traveller_type  \n",
       "0              1             Junior Suite       Solo traveller  \n",
       "1              1             Deluxe Suite               Couple  \n",
       "2              6  Apartment with Sea View               Couple  \n",
       "3              4             Junior Suite       Solo traveller  \n",
       "4              4  Apartment with Sea View  People with friends  "
      ]
     },
     "execution_count": 15,
     "metadata": {},
     "output_type": "execute_result"
    }
   ],
   "source": [
    "# Refine nights stayed column\n",
    "df = df.assign(nights_stayed = lambda x: x['nights_stayed'].str.extract('(\\d+)'))\n",
    "df['nights_stayed'] = pd.to_numeric(df['nights_stayed'])\n",
    "df.head()"
   ]
  },
  {
   "cell_type": "code",
   "execution_count": 16,
   "metadata": {
    "colab": {
     "base_uri": "https://localhost:8080/",
     "height": 472
    },
    "id": "8Jhc8jG7j6og",
    "outputId": "09dd9941-2c7d-417a-e11c-dcbc61ab4e24"
   },
   "outputs": [
    {
     "data": {
      "text/html": [
       "<div>\n",
       "<style scoped>\n",
       "    .dataframe tbody tr th:only-of-type {\n",
       "        vertical-align: middle;\n",
       "    }\n",
       "\n",
       "    .dataframe tbody tr th {\n",
       "        vertical-align: top;\n",
       "    }\n",
       "\n",
       "    .dataframe thead th {\n",
       "        text-align: right;\n",
       "    }\n",
       "</style>\n",
       "<table border=\"1\" class=\"dataframe\">\n",
       "  <thead>\n",
       "    <tr style=\"text-align: right;\">\n",
       "      <th></th>\n",
       "      <th>review_title</th>\n",
       "      <th>review_date</th>\n",
       "      <th>reviewer</th>\n",
       "      <th>hotel_name</th>\n",
       "      <th>hotel_avg_rating</th>\n",
       "      <th>nationality</th>\n",
       "      <th>rating</th>\n",
       "      <th>review_text</th>\n",
       "      <th>raw_review_text</th>\n",
       "      <th>quarter</th>\n",
       "      <th>hotel_type</th>\n",
       "      <th>nights_stayed</th>\n",
       "      <th>room_type</th>\n",
       "      <th>traveller_type</th>\n",
       "    </tr>\n",
       "  </thead>\n",
       "  <tbody>\n",
       "    <tr>\n",
       "      <th>0</th>\n",
       "      <td>Exceptional</td>\n",
       "      <td>2021-07-11</td>\n",
       "      <td>Kyrylo</td>\n",
       "      <td>Villa Pura Vida</td>\n",
       "      <td>9.7</td>\n",
       "      <td>Poland</td>\n",
       "      <td>10.0</td>\n",
       "      <td>Everything was perfect! Quite, cozy place to r...</td>\n",
       "      <td>&lt;p class=\"review_pos \"&gt;&lt;svg aria-label=\"Positi...</td>\n",
       "      <td>3</td>\n",
       "      <td>Others</td>\n",
       "      <td>1</td>\n",
       "      <td>Junior Suite</td>\n",
       "      <td>Solo traveller</td>\n",
       "    </tr>\n",
       "    <tr>\n",
       "      <th>1</th>\n",
       "      <td>I highly recommend this b&amp;b! We enjoyed it a lot!</td>\n",
       "      <td>2019-11-24</td>\n",
       "      <td>Dimitri</td>\n",
       "      <td>Villa Pura Vida</td>\n",
       "      <td>9.7</td>\n",
       "      <td>Belgium</td>\n",
       "      <td>9.0</td>\n",
       "      <td>Very friendly host and perfect breakfast!</td>\n",
       "      <td>&lt;p class=\"review_pos \"&gt;&lt;svg aria-label=\"Positi...</td>\n",
       "      <td>4</td>\n",
       "      <td>Others</td>\n",
       "      <td>1</td>\n",
       "      <td>Deluxe Suite</td>\n",
       "      <td>Couple</td>\n",
       "    </tr>\n",
       "    <tr>\n",
       "      <th>2</th>\n",
       "      <td>Exceptional</td>\n",
       "      <td>2020-01-03</td>\n",
       "      <td>Virginia</td>\n",
       "      <td>Hydro Palace Apartment</td>\n",
       "      <td>9.2</td>\n",
       "      <td>United Kingdom</td>\n",
       "      <td>10.0</td>\n",
       "      <td>It was just what we wanted for a week by the b...</td>\n",
       "      <td>&lt;p class=\"review_neg \"&gt;&lt;svg aria-label=\"Negati...</td>\n",
       "      <td>1</td>\n",
       "      <td>Apartment</td>\n",
       "      <td>6</td>\n",
       "      <td>Apartment with Sea View</td>\n",
       "      <td>Couple</td>\n",
       "    </tr>\n",
       "    <tr>\n",
       "      <th>3</th>\n",
       "      <td>My stay in the house was a experiencing bliss ...</td>\n",
       "      <td>2019-09-08</td>\n",
       "      <td>Kannan</td>\n",
       "      <td>Villa Pura Vida</td>\n",
       "      <td>9.7</td>\n",
       "      <td>Netherlands</td>\n",
       "      <td>10.0</td>\n",
       "      <td>My stay in the house was a experiencing bliss ...</td>\n",
       "      <td>&lt;p class=\"review_pos \"&gt;&lt;svg aria-label=\"Positi...</td>\n",
       "      <td>3</td>\n",
       "      <td>Others</td>\n",
       "      <td>4</td>\n",
       "      <td>Junior Suite</td>\n",
       "      <td>Solo traveller</td>\n",
       "    </tr>\n",
       "    <tr>\n",
       "      <th>4</th>\n",
       "      <td>One bedroom apartment with wonderful view and ...</td>\n",
       "      <td>2019-06-23</td>\n",
       "      <td>Sue</td>\n",
       "      <td>Hydro Palace Apartment</td>\n",
       "      <td>9.2</td>\n",
       "      <td>South Africa</td>\n",
       "      <td>9.2</td>\n",
       "      <td>The building itself has a very musty smell in ...</td>\n",
       "      <td>&lt;p class=\"review_neg \"&gt;&lt;svg aria-label=\"Negati...</td>\n",
       "      <td>2</td>\n",
       "      <td>Apartment</td>\n",
       "      <td>4</td>\n",
       "      <td>Apartment with Sea View</td>\n",
       "      <td>People with friends</td>\n",
       "    </tr>\n",
       "  </tbody>\n",
       "</table>\n",
       "</div>"
      ],
      "text/plain": [
       "                                        review_title review_date  reviewer  \\\n",
       "0                                        Exceptional  2021-07-11    Kyrylo   \n",
       "1  I highly recommend this b&b! We enjoyed it a lot!  2019-11-24   Dimitri   \n",
       "2                                        Exceptional  2020-01-03  Virginia   \n",
       "3  My stay in the house was a experiencing bliss ...  2019-09-08    Kannan   \n",
       "4  One bedroom apartment with wonderful view and ...  2019-06-23       Sue   \n",
       "\n",
       "               hotel_name  hotel_avg_rating     nationality  rating  \\\n",
       "0         Villa Pura Vida               9.7          Poland    10.0   \n",
       "1         Villa Pura Vida               9.7         Belgium     9.0   \n",
       "2  Hydro Palace Apartment               9.2  United Kingdom    10.0   \n",
       "3         Villa Pura Vida               9.7     Netherlands    10.0   \n",
       "4  Hydro Palace Apartment               9.2    South Africa     9.2   \n",
       "\n",
       "                                         review_text  \\\n",
       "0  Everything was perfect! Quite, cozy place to r...   \n",
       "1          Very friendly host and perfect breakfast!   \n",
       "2  It was just what we wanted for a week by the b...   \n",
       "3  My stay in the house was a experiencing bliss ...   \n",
       "4  The building itself has a very musty smell in ...   \n",
       "\n",
       "                                     raw_review_text quarter hotel_type  \\\n",
       "0  <p class=\"review_pos \"><svg aria-label=\"Positi...       3     Others   \n",
       "1  <p class=\"review_pos \"><svg aria-label=\"Positi...       4     Others   \n",
       "2  <p class=\"review_neg \"><svg aria-label=\"Negati...       1  Apartment   \n",
       "3  <p class=\"review_pos \"><svg aria-label=\"Positi...       3     Others   \n",
       "4  <p class=\"review_neg \"><svg aria-label=\"Negati...       2  Apartment   \n",
       "\n",
       "   nights_stayed                room_type       traveller_type  \n",
       "0              1             Junior Suite       Solo traveller  \n",
       "1              1             Deluxe Suite               Couple  \n",
       "2              6  Apartment with Sea View               Couple  \n",
       "3              4             Junior Suite       Solo traveller  \n",
       "4              4  Apartment with Sea View  People with friends  "
      ]
     },
     "execution_count": 16,
     "metadata": {},
     "output_type": "execute_result"
    }
   ],
   "source": [
    "#Rename columns\n",
    "df.rename(columns={'reviewed_at' : 'review_date', 'reviewed_by': 'reviewer', 'avg_rating':'hotel_avg_rating'}, inplace = True)\n",
    "df.head()"
   ]
  },
  {
   "cell_type": "code",
   "execution_count": 17,
   "metadata": {
    "id": "o7-P5CrxuZ6K"
   },
   "outputs": [],
   "source": [
    "# Remove carriage returns\n",
    "df[\"review_text\"] = df[\"review_text\"].replace(r'\\r', ' ', regex=True)"
   ]
  },
  {
   "cell_type": "code",
   "execution_count": 18,
   "metadata": {
    "colab": {
     "base_uri": "https://localhost:8080/"
    },
    "id": "KL0qDNNz9ai8",
    "outputId": "d057ab7d-4699-4b18-ea9c-b6611bca7c4f"
   },
   "outputs": [
    {
     "data": {
      "text/plain": [
       "(1980, 14)"
      ]
     },
     "execution_count": 18,
     "metadata": {},
     "output_type": "execute_result"
    }
   ],
   "source": [
    "# Dataframe 2 with 20 hotels (at least 4 star hotel, top 10 of lowest and highest ratings by reviewers)\n",
    "hotels = ['Hotel Le Châtelain', 'Radisson Blu Hotel, Bruges', 'Van der Valk Hotel Antwerpen', 'Holiday Inn Hasselt, an IHG Hotel', 'Theater Hotel', 'Hotel Dolce La Hulpe Brussels', 'Renaissance Brussels Hotel', 'Hotel Bourgoensch Hof','Mercure Hotel Brussels Centre Midi', \"Marivaux Hotel\",\"Hotel Bütgenbacher Hof\",\"Rocco Forte Hotel Amigo\", \"Grand Hotel Belle Vue\", \"Hotel Royal\", \"Pillows Grand Boutique Hotel Place Rouppe Brussels\", \"ABC Hotel\", \"Hotel De Castillion - Small elegant family hotel\", \"Hotel B - Boskapelhoeve\", \"ManavaHotel\", \"Aparthotel Trilogie\"]\n",
    "df2 = df.loc[df['hotel_name'].isin(hotels)]\n",
    "df2.shape"
   ]
  },
  {
   "cell_type": "code",
   "execution_count": 19,
   "metadata": {
    "id": "Wa6H29l0YEWd"
   },
   "outputs": [],
   "source": [
    "hotel_prices = {}"
   ]
  },
  {
   "cell_type": "code",
   "execution_count": 20,
   "metadata": {
    "id": "JSYHAnvmCPuJ"
   },
   "outputs": [],
   "source": [
    "hotel_royal = df2.loc[df['hotel_name'] == \"Hotel Royal\"]\n",
    "hotel_royal_room_types = list(hotel_royal['room_type'].unique())\n",
    "hotel_royal_prices = [180, 220, 220, 250, 180, 200, 160]\n",
    "hotel_prices.update({\"Hotel Royal\": [hotel_royal_room_types, hotel_royal_prices]})"
   ]
  },
  {
   "cell_type": "code",
   "execution_count": 21,
   "metadata": {
    "id": "QayIq38NCVr2"
   },
   "outputs": [],
   "source": [
    "hotel_bütgenbacher_hof = df2.loc[df['hotel_name'] == \"Hotel Bütgenbacher Hof\"]\n",
    "hotel_bütgenbacher_hof_room_types = list(hotel_bütgenbacher_hof['room_type'].unique())\n",
    "hotel_bütgenbacher_hof_prices = [243, 153, 276, 336, 236]\n",
    "hotel_prices.update({\"Hotel Bütgenbacher Hof\": [hotel_bütgenbacher_hof_room_types, hotel_bütgenbacher_hof_prices]})"
   ]
  },
  {
   "cell_type": "code",
   "execution_count": 22,
   "metadata": {
    "id": "O2Tely_lCZv0"
   },
   "outputs": [],
   "source": [
    "rocco = df2.loc[df['hotel_name'] == \"Rocco Forte Hotel Amigo\"]\n",
    "rocco_room_types = list(rocco['room_type'].unique())\n",
    "rocco_prices = [265, 319, 517, 1008, 644]\n",
    "hotel_prices.update({\"Rocco Forte Hotel Amigo\": [rocco_room_types, rocco_prices]})"
   ]
  },
  {
   "cell_type": "code",
   "execution_count": 23,
   "metadata": {
    "id": "XZwRtGsmCb-q"
   },
   "outputs": [],
   "source": [
    "grand = df2.loc[df['hotel_name'] == \"Grand Hotel Belle Vue\"]\n",
    "grand_room_types = list(grand['room_type'].unique())\n",
    "grand_prices = [258, 188, 258, 278]\n",
    "hotel_prices.update({\"Grand Hotel Belle Vue\": [grand_room_types, grand_prices]})"
   ]
  },
  {
   "cell_type": "code",
   "execution_count": 24,
   "metadata": {
    "id": "J4bEZLlBCeD3"
   },
   "outputs": [],
   "source": [
    "pillows = df2.loc[df['hotel_name'] == \"Pillows Grand Boutique Hotel Place Rouppe Brussels\"]\n",
    "pillows_room_types = list(pillows['room_type'].unique())\n",
    "pillows_prices = [140, 170]\n",
    "hotel_prices.update({\"Pillows Grand Boutique Hotel Place Rouppe Brussels\": [pillows_room_types, pillows_prices]})"
   ]
  },
  {
   "cell_type": "code",
   "execution_count": 25,
   "metadata": {
    "id": "chr3f30cSV5P"
   },
   "outputs": [],
   "source": [
    "abc_hotel = df2.loc[df['hotel_name'] == \"ABC Hotel\"]\n",
    "abc_hotel_room_types = list(abc_hotel['room_type'].unique())\n",
    "abc_hotel_prices = [224, 199, 199, 245, 244]\n",
    "hotel_prices.update({\"ABC Hotel\": [abc_hotel_room_types, abc_hotel_prices]})"
   ]
  },
  {
   "cell_type": "code",
   "execution_count": 26,
   "metadata": {
    "id": "EYVVbDihSa1A"
   },
   "outputs": [],
   "source": [
    "castillion = df2.loc[df['hotel_name'] == \"Hotel De Castillion - Small elegant family hotel\"]\n",
    "castillion_room_types = list(castillion['room_type'].unique())\n",
    "castillion_prices = [384, 168, 217, 287, 238, 319, 211]\n",
    "hotel_prices.update({\"Hotel De Castillion - Small elegant family hotel\": [castillion_room_types, castillion_prices]})"
   ]
  },
  {
   "cell_type": "code",
   "execution_count": 27,
   "metadata": {
    "id": "YB0tTW_sSdh5"
   },
   "outputs": [],
   "source": [
    "boskapelhoeve = df2.loc[df['hotel_name'] == \"Hotel B - Boskapelhoeve\"]\n",
    "boskapelhoeve_room_types = list(boskapelhoeve['room_type'].unique())\n",
    "boskapelhoeve_prices = [280, 230, 190, 150, 190]\n",
    "hotel_prices.update({\"Hotel B - Boskapelhoeve\": [boskapelhoeve_room_types, boskapelhoeve_prices]})"
   ]
  },
  {
   "cell_type": "code",
   "execution_count": 28,
   "metadata": {
    "id": "GWfwC5g0SfXu"
   },
   "outputs": [],
   "source": [
    "manava = df2.loc[df['hotel_name'] == \"ManavaHotel\"]\n",
    "manava_room_types = list(manava['room_type'].unique())\n",
    "manava_prices = [116, 112, 100, 110]\n",
    "hotel_prices.update({\"ManavaHotel\": [manava_room_types, manava_prices]})"
   ]
  },
  {
   "cell_type": "code",
   "execution_count": 29,
   "metadata": {
    "id": "gXRmxkIwShQ3"
   },
   "outputs": [],
   "source": [
    "trilogie = df2.loc[df['hotel_name'] == \"Aparthotel Trilogie\"]\n",
    "trilogie_room_types = list(trilogie['room_type'].unique())\n",
    "trilogie_prices = [175, 125, 250, 200, 220, 240]\n",
    "hotel_prices.update({\"Aparthotel Trilogie\": [trilogie_room_types, trilogie_prices]})"
   ]
  },
  {
   "cell_type": "code",
   "execution_count": 30,
   "metadata": {
    "id": "a4YsdOKwy0Bg"
   },
   "outputs": [],
   "source": [
    "dolce = df2.loc[df['hotel_name'] == \"Hotel Dolce La Hulpe Brussels\"]\n",
    "dolce_room_types = list(dolce['room_type'].unique())\n",
    "dolce_prices = [131,159,147,159,212]\n",
    "hotel_prices.update({\"Hotel Dolce La Hulpe Brussels\": [dolce_room_types, dolce_prices]})"
   ]
  },
  {
   "cell_type": "code",
   "execution_count": 31,
   "metadata": {
    "id": "iK9Qn9FU0j_h"
   },
   "outputs": [],
   "source": [
    "renaissance = df2.loc[df['hotel_name'] == \"Renaissance Brussels Hotel\"]\n",
    "renaissance_room_types = list(renaissance['room_type'].unique())\n",
    "renaissance_prices = [138, 143, 113, 178, 178, 250, 240]\n",
    "hotel_prices.update({\"Renaissance Brussels Hotel\": [renaissance_room_types, renaissance_prices]})"
   ]
  },
  {
   "cell_type": "code",
   "execution_count": 32,
   "metadata": {
    "id": "0MToVgGn2i-1"
   },
   "outputs": [],
   "source": [
    "bourgoensch_hof = df2.loc[df['hotel_name'] == \"Hotel Bourgoensch Hof\"]\n",
    "bourgoensch_hof_room_types = list(bourgoensch_hof['room_type'].unique())\n",
    "bourgoensch_hof_prices = [153, 143, 145, 183, 240]\n",
    "hotel_prices.update({\"Hotel Bourgoensch Hof\": [bourgoensch_hof_room_types, bourgoensch_hof_prices]})"
   ]
  },
  {
   "cell_type": "code",
   "execution_count": 33,
   "metadata": {
    "id": "gJTu8LEE3Xzl"
   },
   "outputs": [],
   "source": [
    "marivaux = df2.loc[df['hotel_name'] == \"Marivaux Hotel\"]\n",
    "marivaux_room_types = list(marivaux['room_type'].unique())\n",
    "marivaux_prices = [99, 84, 119, 139]\n",
    "hotel_prices.update({\"Marivaux Hotel\": [marivaux_room_types, marivaux_prices]})"
   ]
  },
  {
   "cell_type": "code",
   "execution_count": 34,
   "metadata": {
    "id": "dy5wXbKX4e9v"
   },
   "outputs": [],
   "source": [
    "mercure = df2.loc[df['hotel_name'] == \"Mercure Hotel Brussels Centre Midi\"]\n",
    "mercure_room_types = list(mercure['room_type'].unique())\n",
    "mercure_prices = [108, 148, 108]\n",
    "hotel_prices.update({\"Mercure Hotel Brussels Centre Midi\": [mercure_room_types, mercure_prices]})"
   ]
  },
  {
   "cell_type": "code",
   "execution_count": 35,
   "metadata": {
    "id": "9WKIOnsUOO7b"
   },
   "outputs": [],
   "source": [
    "le_chatelain = df2.loc[df['hotel_name'] == \"Hotel Le Châtelain\"]\n",
    "le_chatelain_room_types = list(le_chatelain['room_type'].unique())\n",
    "le_chatelain_prices = [158, 188, 228, 458]\n",
    "hotel_prices.update({\"Hotel Le Châtelain\": [le_chatelain_room_types, le_chatelain_prices]})"
   ]
  },
  {
   "cell_type": "code",
   "execution_count": 36,
   "metadata": {
    "id": "mlc9We4NOPCf"
   },
   "outputs": [],
   "source": [
    "radisson_blu = df2.loc[df['hotel_name'] == \"Radisson Blu Hotel, Bruges\"]\n",
    "radisson_blu_room_types = list(radisson_blu['room_type'].unique())\n",
    "radisson_blu_prices = [210, 170, 190, 145, 285]\n",
    "hotel_prices.update({\"Radisson Blu Hotel, Bruges\": [radisson_blu_room_types, radisson_blu_prices]})"
   ]
  },
  {
   "cell_type": "code",
   "execution_count": 37,
   "metadata": {
    "id": "ZNa5C7iFOPJW"
   },
   "outputs": [],
   "source": [
    "vandervalk = df2.loc[df['hotel_name'] == \"Van der Valk Hotel Antwerpen\"]\n",
    "vandervalk_room_types = list(vandervalk['room_type'].unique())\n",
    "vandervalk_prices = [118, 128, 178, 108, 118, 118, 128, 330]\n",
    "hotel_prices.update({\"Van der Valk Hotel Antwerpen\": [vandervalk_room_types, vandervalk_prices]})"
   ]
  },
  {
   "cell_type": "code",
   "execution_count": 38,
   "metadata": {
    "id": "Cf4g9dO7OPQH"
   },
   "outputs": [],
   "source": [
    "hasselt = df2.loc[df['hotel_name'] == \"Holiday Inn Hasselt, an IHG Hotel\"]\n",
    "hasselt_room_types = list(hasselt['room_type'].unique())\n",
    "hasselt_prices = [200, 140, 245, 210, 240, 220, 200, 210, 210, 200]\n",
    "hotel_prices.update({\"Holiday Inn Hasselt, an IHG Hotel\": [hasselt_room_types, hasselt_prices]})"
   ]
  },
  {
   "cell_type": "code",
   "execution_count": 39,
   "metadata": {
    "id": "4FpE8FosOPXD"
   },
   "outputs": [],
   "source": [
    "theater = df2.loc[df['hotel_name'] == \"Theater Hotel\"]\n",
    "theater_room_types = list(theater['room_type'].unique())\n",
    "theater_prices = [132, 132, 115, 115]\n",
    "hotel_prices.update({\"Theater Hotel\": [theater_room_types, theater_prices]})"
   ]
  },
  {
   "cell_type": "code",
   "execution_count": 40,
   "metadata": {
    "colab": {
     "base_uri": "https://localhost:8080/"
    },
    "id": "sNc4KBcAYA8e",
    "outputId": "4299952e-996b-436b-87ef-c99fd88dd84e"
   },
   "outputs": [
    {
     "name": "stdout",
     "output_type": "stream",
     "text": [
      "{'Hotel Royal': [['Privilege Double Room', 'Junior Suite', 'Two-Bedroom Apartment', 'Family Room (2 Adults + 2 Children)', 'Premier Double Room', 'Superior Room', 'Special Offer - Classic Double Room'], [180, 220, 220, 250, 180, 200, 160]], 'Hotel Bütgenbacher Hof': [['Double Room - Annex', 'Single Room', 'Double Room', 'Suite', 'Budget Double Room'], [243, 153, 276, 336, 236]], 'Rocco Forte Hotel Amigo': [['Classic Double Room', 'Deluxe Double Room', 'Executive Double Room', 'Classic Suite', 'Junior Suite'], [265, 319, 517, 1008, 644]], 'Grand Hotel Belle Vue': [['Luxe Tower Suite', 'Superior Deluxe Room', 'Classic Suite (2 Adults)', 'Quadruple Room (2 Adults + 2 Children)'], [258, 188, 258, 278]], 'Pillows Grand Boutique Hotel Place Rouppe Brussels': [['Luxury Room', 'Grand Luxury Room'], [140, 170]], 'ABC Hotel': [['Deluxe Room', 'Deluxe Double Room', 'Deluxe Double or Twin Room', 'Deluxe Family Room', 'Suite with Terrace'], [224, 199, 199, 245, 244]], 'Hotel De Castillion - Small elegant family hotel': [['Duplex Quadruple Family Room', 'Classic Room', 'Deluxe Room', 'Executive Junior Suite', 'Junior Suite', 'Honeymoon Suite', 'Triple Classic Room'], [384, 168, 217, 287, 238, 319, 211]], 'Hotel B - Boskapelhoeve': [['King Suite with Spa Bath', 'Deluxe Double Room with Spa Bath', 'Comfort Double or Twin Room', 'Comfort Single Room', 'Superior Double or Twin Room'], [280, 230, 190, 150, 190]], 'ManavaHotel': [['King Room', 'Superior Twin Room', 'Standard Single Room', 'Double or Twin Room - Disability Access'], [116, 112, 100, 110]], 'Aparthotel Trilogie': [['Apartment 6', 'Apartment 4', 'Apartment 2', 'Apartment 3', 'Apartment 5', 'Apartment 1'], [175, 125, 250, 200, 220, 240]], 'Hotel Dolce La Hulpe Brussels': [['Superior Room', 'Executive Double Room with Sofa Bed', 'Deluxe Double or Twin Room', 'Executive Room', 'Junior Suite'], [131, 159, 147, 159, 212]], 'Renaissance Brussels Hotel': [['Deluxe King Room', 'Deluxe Room, Guest room, 1 Queen', 'Deluxe Twin Room', 'Junior Suite', 'Connecting Family Room', 'Executive Room, Club lounge access, Guest room, 1 Queen', 'Garden View Room'], [138, 143, 113, 178, 178, 250, 240]], 'Hotel Bourgoensch Hof': [['Standard Room', 'Budget Room with bath', 'Budget Room with River View', 'Standard Double or Twin Room', 'Comfort Double or Twin Room with River View'], [153, 143, 145, 183, 240]], 'Marivaux Hotel': [['Standard Double or Twin Room', 'Standard Single Room', 'Deluxe Double Room', 'Junior Suite'], [99, 84, 119, 139]], 'Mercure Hotel Brussels Centre Midi': [['Superior Double Room', 'Superior Double Room with Sofa', 'Superior Twin Room'], [108, 148, 108]], 'Hotel Le Châtelain': [['Superior Double or Twin Room', 'Executive Double or Twin Room', 'Junior Suite', 'Ambassador Suite'], [158, 188, 228, 458]], 'Radisson Blu Hotel, Bruges': [['Family Room', 'Standard Room', 'Superior Room', 'Premium Room', 'One-Bedroom Suite'], [210, 170, 190, 145, 285]], 'Van der Valk Hotel Antwerpen': [['Comfort Double Room', 'Deluxe Double Room', 'Executive Room', 'Standard Double Room', 'Superior Double Room', 'Superior Twin Room', 'Deluxe Double or Twin Room', 'Suite'], [118, 128, 178, 108, 118, 118, 128, 330]], 'Holiday Inn Hasselt, an IHG Hotel': [['Standard King Room', 'Deluxe King Room', 'Family Room', 'Standard Room with Sofa', 'Executive Double Room', 'Excecutive Room with Sofa', 'Double Room with Two Beds', 'Deluxe Two Beds', 'Business Double Room', 'Standard Double Room'], [200, 140, 245, 210, 240, 220, 200, 210, 210, 200]], 'Theater Hotel': [['Superior Twin Room', 'Superior Double Room', 'Standard Twin Room', 'Standard Double Room'], [132, 132, 115, 115]]}\n"
     ]
    }
   ],
   "source": [
    "print(hotel_prices)"
   ]
  },
  {
   "cell_type": "code",
   "execution_count": 41,
   "metadata": {
    "id": "msqlboSXCgS4"
   },
   "outputs": [],
   "source": [
    "# Price per night function\n",
    "def price_per_night(df):\n",
    "    for k, v in hotel_prices.items():\n",
    "        for i in range(len(v[0])):\n",
    "            if df['hotel_name'] ==  k and df['room_type'] == v[0][i]:\n",
    "                return v[1][i]"
   ]
  },
  {
   "cell_type": "code",
   "execution_count": 42,
   "metadata": {
    "colab": {
     "base_uri": "https://localhost:8080/",
     "height": 492
    },
    "id": "TorqpXq1CkNd",
    "outputId": "bb8a86ec-0330-4697-8d0c-8fba1664e883"
   },
   "outputs": [
    {
     "data": {
      "text/html": [
       "<div>\n",
       "<style scoped>\n",
       "    .dataframe tbody tr th:only-of-type {\n",
       "        vertical-align: middle;\n",
       "    }\n",
       "\n",
       "    .dataframe tbody tr th {\n",
       "        vertical-align: top;\n",
       "    }\n",
       "\n",
       "    .dataframe thead th {\n",
       "        text-align: right;\n",
       "    }\n",
       "</style>\n",
       "<table border=\"1\" class=\"dataframe\">\n",
       "  <thead>\n",
       "    <tr style=\"text-align: right;\">\n",
       "      <th></th>\n",
       "      <th>review_title</th>\n",
       "      <th>review_date</th>\n",
       "      <th>reviewer</th>\n",
       "      <th>hotel_name</th>\n",
       "      <th>hotel_avg_rating</th>\n",
       "      <th>nationality</th>\n",
       "      <th>rating</th>\n",
       "      <th>review_text</th>\n",
       "      <th>raw_review_text</th>\n",
       "      <th>quarter</th>\n",
       "      <th>hotel_type</th>\n",
       "      <th>nights_stayed</th>\n",
       "      <th>room_type</th>\n",
       "      <th>traveller_type</th>\n",
       "      <th>price_per_night</th>\n",
       "    </tr>\n",
       "  </thead>\n",
       "  <tbody>\n",
       "    <tr>\n",
       "      <th>32</th>\n",
       "      <td>Exceptional</td>\n",
       "      <td>2020-03-14</td>\n",
       "      <td>Vivian</td>\n",
       "      <td>Marivaux Hotel</td>\n",
       "      <td>8.5</td>\n",
       "      <td>Singapore</td>\n",
       "      <td>10.0</td>\n",
       "      <td>Staff ap friendly and Helpful. Thank you</td>\n",
       "      <td>&lt;p class=\"review_pos \"&gt;&lt;svg aria-label=\"Positi...</td>\n",
       "      <td>1</td>\n",
       "      <td>Hotel</td>\n",
       "      <td>2</td>\n",
       "      <td>Standard Double or Twin Room</td>\n",
       "      <td>Couple</td>\n",
       "      <td>99</td>\n",
       "    </tr>\n",
       "    <tr>\n",
       "      <th>42</th>\n",
       "      <td>Very good</td>\n",
       "      <td>2020-03-12</td>\n",
       "      <td>Duncan</td>\n",
       "      <td>Marivaux Hotel</td>\n",
       "      <td>8.5</td>\n",
       "      <td>United Kingdom</td>\n",
       "      <td>8.0</td>\n",
       "      <td>Windows opened onto a deep light-well so littl...</td>\n",
       "      <td>&lt;p class=\"review_neg \"&gt;&lt;svg aria-label=\"Negati...</td>\n",
       "      <td>1</td>\n",
       "      <td>Hotel</td>\n",
       "      <td>2</td>\n",
       "      <td>Standard Double or Twin Room</td>\n",
       "      <td>Solo traveller</td>\n",
       "      <td>99</td>\n",
       "    </tr>\n",
       "    <tr>\n",
       "      <th>56</th>\n",
       "      <td>Typical Conference Hotel close to Brussels Noo...</td>\n",
       "      <td>2020-03-11</td>\n",
       "      <td>Simon</td>\n",
       "      <td>Marivaux Hotel</td>\n",
       "      <td>8.5</td>\n",
       "      <td>Germany</td>\n",
       "      <td>8.0</td>\n",
       "      <td>breakfast did not provide a lot of selection a...</td>\n",
       "      <td>&lt;p class=\"review_neg \"&gt;&lt;svg aria-label=\"Negati...</td>\n",
       "      <td>1</td>\n",
       "      <td>Hotel</td>\n",
       "      <td>1</td>\n",
       "      <td>Standard Single Room</td>\n",
       "      <td>Solo traveller</td>\n",
       "      <td>84</td>\n",
       "    </tr>\n",
       "    <tr>\n",
       "      <th>70</th>\n",
       "      <td>Close to metro station</td>\n",
       "      <td>2020-03-11</td>\n",
       "      <td>Gergő</td>\n",
       "      <td>Marivaux Hotel</td>\n",
       "      <td>8.5</td>\n",
       "      <td>Hungary</td>\n",
       "      <td>9.0</td>\n",
       "      <td>none,\\n\\nRoom, location, breakfast - everythin...</td>\n",
       "      <td>&lt;p class=\"review_neg \"&gt;&lt;svg aria-label=\"Negati...</td>\n",
       "      <td>1</td>\n",
       "      <td>Hotel</td>\n",
       "      <td>1</td>\n",
       "      <td>Deluxe Double Room</td>\n",
       "      <td>Solo traveller</td>\n",
       "      <td>119</td>\n",
       "    </tr>\n",
       "    <tr>\n",
       "      <th>84</th>\n",
       "      <td>Fabulous</td>\n",
       "      <td>2020-03-09</td>\n",
       "      <td>Oleg</td>\n",
       "      <td>Marivaux Hotel</td>\n",
       "      <td>8.5</td>\n",
       "      <td>Germany</td>\n",
       "      <td>8.8</td>\n",
       "      <td>Unique style, and secret parking made my day</td>\n",
       "      <td>&lt;p class=\"review_pos \"&gt;&lt;svg aria-label=\"Positi...</td>\n",
       "      <td>1</td>\n",
       "      <td>Hotel</td>\n",
       "      <td>1</td>\n",
       "      <td>Standard Double or Twin Room</td>\n",
       "      <td>People with friends</td>\n",
       "      <td>99</td>\n",
       "    </tr>\n",
       "  </tbody>\n",
       "</table>\n",
       "</div>"
      ],
      "text/plain": [
       "                                         review_title review_date reviewer  \\\n",
       "32                                        Exceptional  2020-03-14   Vivian   \n",
       "42                                          Very good  2020-03-12   Duncan   \n",
       "56  Typical Conference Hotel close to Brussels Noo...  2020-03-11    Simon   \n",
       "70                             Close to metro station  2020-03-11    Gergő   \n",
       "84                                           Fabulous  2020-03-09     Oleg   \n",
       "\n",
       "        hotel_name  hotel_avg_rating     nationality  rating  \\\n",
       "32  Marivaux Hotel               8.5       Singapore    10.0   \n",
       "42  Marivaux Hotel               8.5  United Kingdom     8.0   \n",
       "56  Marivaux Hotel               8.5         Germany     8.0   \n",
       "70  Marivaux Hotel               8.5         Hungary     9.0   \n",
       "84  Marivaux Hotel               8.5         Germany     8.8   \n",
       "\n",
       "                                          review_text  \\\n",
       "32           Staff ap friendly and Helpful. Thank you   \n",
       "42  Windows opened onto a deep light-well so littl...   \n",
       "56  breakfast did not provide a lot of selection a...   \n",
       "70  none,\\n\\nRoom, location, breakfast - everythin...   \n",
       "84       Unique style, and secret parking made my day   \n",
       "\n",
       "                                      raw_review_text quarter hotel_type  \\\n",
       "32  <p class=\"review_pos \"><svg aria-label=\"Positi...       1      Hotel   \n",
       "42  <p class=\"review_neg \"><svg aria-label=\"Negati...       1      Hotel   \n",
       "56  <p class=\"review_neg \"><svg aria-label=\"Negati...       1      Hotel   \n",
       "70  <p class=\"review_neg \"><svg aria-label=\"Negati...       1      Hotel   \n",
       "84  <p class=\"review_pos \"><svg aria-label=\"Positi...       1      Hotel   \n",
       "\n",
       "    nights_stayed                     room_type       traveller_type  \\\n",
       "32              2  Standard Double or Twin Room               Couple   \n",
       "42              2  Standard Double or Twin Room       Solo traveller   \n",
       "56              1          Standard Single Room       Solo traveller   \n",
       "70              1            Deluxe Double Room       Solo traveller   \n",
       "84              1  Standard Double or Twin Room  People with friends   \n",
       "\n",
       "    price_per_night  \n",
       "32               99  \n",
       "42               99  \n",
       "56               84  \n",
       "70              119  \n",
       "84               99  "
      ]
     },
     "execution_count": 42,
     "metadata": {},
     "output_type": "execute_result"
    }
   ],
   "source": [
    "# Price per night column\n",
    "pd.options.mode.chained_assignment = None  # default='warn'\n",
    "df2['price_per_night'] = df2.apply (lambda df: price_per_night(df), axis=1)\n",
    "df2.head()"
   ]
  },
  {
   "cell_type": "code",
   "execution_count": 43,
   "metadata": {
    "colab": {
     "base_uri": "https://localhost:8080/",
     "height": 492
    },
    "id": "ExtLT07_Cni_",
    "outputId": "37abc303-b774-4568-a23f-122ce4cab9ca"
   },
   "outputs": [
    {
     "data": {
      "text/html": [
       "<div>\n",
       "<style scoped>\n",
       "    .dataframe tbody tr th:only-of-type {\n",
       "        vertical-align: middle;\n",
       "    }\n",
       "\n",
       "    .dataframe tbody tr th {\n",
       "        vertical-align: top;\n",
       "    }\n",
       "\n",
       "    .dataframe thead th {\n",
       "        text-align: right;\n",
       "    }\n",
       "</style>\n",
       "<table border=\"1\" class=\"dataframe\">\n",
       "  <thead>\n",
       "    <tr style=\"text-align: right;\">\n",
       "      <th></th>\n",
       "      <th>review_title</th>\n",
       "      <th>review_date</th>\n",
       "      <th>reviewer</th>\n",
       "      <th>hotel_name</th>\n",
       "      <th>hotel_avg_rating</th>\n",
       "      <th>nationality</th>\n",
       "      <th>rating</th>\n",
       "      <th>review_text</th>\n",
       "      <th>raw_review_text</th>\n",
       "      <th>quarter</th>\n",
       "      <th>hotel_type</th>\n",
       "      <th>nights_stayed</th>\n",
       "      <th>room_type</th>\n",
       "      <th>traveller_type</th>\n",
       "      <th>price_per_night</th>\n",
       "      <th>total_spending</th>\n",
       "    </tr>\n",
       "  </thead>\n",
       "  <tbody>\n",
       "    <tr>\n",
       "      <th>32</th>\n",
       "      <td>Exceptional</td>\n",
       "      <td>2020-03-14</td>\n",
       "      <td>Vivian</td>\n",
       "      <td>Marivaux Hotel</td>\n",
       "      <td>8.5</td>\n",
       "      <td>Singapore</td>\n",
       "      <td>10.0</td>\n",
       "      <td>Staff ap friendly and Helpful. Thank you</td>\n",
       "      <td>&lt;p class=\"review_pos \"&gt;&lt;svg aria-label=\"Positi...</td>\n",
       "      <td>1</td>\n",
       "      <td>Hotel</td>\n",
       "      <td>2</td>\n",
       "      <td>Standard Double or Twin Room</td>\n",
       "      <td>Couple</td>\n",
       "      <td>99</td>\n",
       "      <td>198</td>\n",
       "    </tr>\n",
       "    <tr>\n",
       "      <th>42</th>\n",
       "      <td>Very good</td>\n",
       "      <td>2020-03-12</td>\n",
       "      <td>Duncan</td>\n",
       "      <td>Marivaux Hotel</td>\n",
       "      <td>8.5</td>\n",
       "      <td>United Kingdom</td>\n",
       "      <td>8.0</td>\n",
       "      <td>Windows opened onto a deep light-well so littl...</td>\n",
       "      <td>&lt;p class=\"review_neg \"&gt;&lt;svg aria-label=\"Negati...</td>\n",
       "      <td>1</td>\n",
       "      <td>Hotel</td>\n",
       "      <td>2</td>\n",
       "      <td>Standard Double or Twin Room</td>\n",
       "      <td>Solo traveller</td>\n",
       "      <td>99</td>\n",
       "      <td>198</td>\n",
       "    </tr>\n",
       "    <tr>\n",
       "      <th>56</th>\n",
       "      <td>Typical Conference Hotel close to Brussels Noo...</td>\n",
       "      <td>2020-03-11</td>\n",
       "      <td>Simon</td>\n",
       "      <td>Marivaux Hotel</td>\n",
       "      <td>8.5</td>\n",
       "      <td>Germany</td>\n",
       "      <td>8.0</td>\n",
       "      <td>breakfast did not provide a lot of selection a...</td>\n",
       "      <td>&lt;p class=\"review_neg \"&gt;&lt;svg aria-label=\"Negati...</td>\n",
       "      <td>1</td>\n",
       "      <td>Hotel</td>\n",
       "      <td>1</td>\n",
       "      <td>Standard Single Room</td>\n",
       "      <td>Solo traveller</td>\n",
       "      <td>84</td>\n",
       "      <td>84</td>\n",
       "    </tr>\n",
       "    <tr>\n",
       "      <th>70</th>\n",
       "      <td>Close to metro station</td>\n",
       "      <td>2020-03-11</td>\n",
       "      <td>Gergő</td>\n",
       "      <td>Marivaux Hotel</td>\n",
       "      <td>8.5</td>\n",
       "      <td>Hungary</td>\n",
       "      <td>9.0</td>\n",
       "      <td>none,\\n\\nRoom, location, breakfast - everythin...</td>\n",
       "      <td>&lt;p class=\"review_neg \"&gt;&lt;svg aria-label=\"Negati...</td>\n",
       "      <td>1</td>\n",
       "      <td>Hotel</td>\n",
       "      <td>1</td>\n",
       "      <td>Deluxe Double Room</td>\n",
       "      <td>Solo traveller</td>\n",
       "      <td>119</td>\n",
       "      <td>119</td>\n",
       "    </tr>\n",
       "    <tr>\n",
       "      <th>84</th>\n",
       "      <td>Fabulous</td>\n",
       "      <td>2020-03-09</td>\n",
       "      <td>Oleg</td>\n",
       "      <td>Marivaux Hotel</td>\n",
       "      <td>8.5</td>\n",
       "      <td>Germany</td>\n",
       "      <td>8.8</td>\n",
       "      <td>Unique style, and secret parking made my day</td>\n",
       "      <td>&lt;p class=\"review_pos \"&gt;&lt;svg aria-label=\"Positi...</td>\n",
       "      <td>1</td>\n",
       "      <td>Hotel</td>\n",
       "      <td>1</td>\n",
       "      <td>Standard Double or Twin Room</td>\n",
       "      <td>People with friends</td>\n",
       "      <td>99</td>\n",
       "      <td>99</td>\n",
       "    </tr>\n",
       "  </tbody>\n",
       "</table>\n",
       "</div>"
      ],
      "text/plain": [
       "                                         review_title review_date reviewer  \\\n",
       "32                                        Exceptional  2020-03-14   Vivian   \n",
       "42                                          Very good  2020-03-12   Duncan   \n",
       "56  Typical Conference Hotel close to Brussels Noo...  2020-03-11    Simon   \n",
       "70                             Close to metro station  2020-03-11    Gergő   \n",
       "84                                           Fabulous  2020-03-09     Oleg   \n",
       "\n",
       "        hotel_name  hotel_avg_rating     nationality  rating  \\\n",
       "32  Marivaux Hotel               8.5       Singapore    10.0   \n",
       "42  Marivaux Hotel               8.5  United Kingdom     8.0   \n",
       "56  Marivaux Hotel               8.5         Germany     8.0   \n",
       "70  Marivaux Hotel               8.5         Hungary     9.0   \n",
       "84  Marivaux Hotel               8.5         Germany     8.8   \n",
       "\n",
       "                                          review_text  \\\n",
       "32           Staff ap friendly and Helpful. Thank you   \n",
       "42  Windows opened onto a deep light-well so littl...   \n",
       "56  breakfast did not provide a lot of selection a...   \n",
       "70  none,\\n\\nRoom, location, breakfast - everythin...   \n",
       "84       Unique style, and secret parking made my day   \n",
       "\n",
       "                                      raw_review_text quarter hotel_type  \\\n",
       "32  <p class=\"review_pos \"><svg aria-label=\"Positi...       1      Hotel   \n",
       "42  <p class=\"review_neg \"><svg aria-label=\"Negati...       1      Hotel   \n",
       "56  <p class=\"review_neg \"><svg aria-label=\"Negati...       1      Hotel   \n",
       "70  <p class=\"review_neg \"><svg aria-label=\"Negati...       1      Hotel   \n",
       "84  <p class=\"review_pos \"><svg aria-label=\"Positi...       1      Hotel   \n",
       "\n",
       "    nights_stayed                     room_type       traveller_type  \\\n",
       "32              2  Standard Double or Twin Room               Couple   \n",
       "42              2  Standard Double or Twin Room       Solo traveller   \n",
       "56              1          Standard Single Room       Solo traveller   \n",
       "70              1            Deluxe Double Room       Solo traveller   \n",
       "84              1  Standard Double or Twin Room  People with friends   \n",
       "\n",
       "    price_per_night  total_spending  \n",
       "32               99             198  \n",
       "42               99             198  \n",
       "56               84              84  \n",
       "70              119             119  \n",
       "84               99              99  "
      ]
     },
     "execution_count": 43,
     "metadata": {},
     "output_type": "execute_result"
    }
   ],
   "source": [
    "# Total spending column\n",
    "df2[\"total_spending\"] = df2[\"price_per_night\"].astype(int) * df2[\"nights_stayed\"].astype(int)\n",
    "df2.head()"
   ]
  },
  {
   "cell_type": "code",
   "execution_count": 44,
   "metadata": {
    "colab": {
     "base_uri": "https://localhost:8080/",
     "height": 492
    },
    "id": "IwYsdBukilg_",
    "outputId": "3a1717bd-6f71-4ff6-c6e2-dcbfff530ecb"
   },
   "outputs": [
    {
     "data": {
      "text/html": [
       "<div>\n",
       "<style scoped>\n",
       "    .dataframe tbody tr th:only-of-type {\n",
       "        vertical-align: middle;\n",
       "    }\n",
       "\n",
       "    .dataframe tbody tr th {\n",
       "        vertical-align: top;\n",
       "    }\n",
       "\n",
       "    .dataframe thead th {\n",
       "        text-align: right;\n",
       "    }\n",
       "</style>\n",
       "<table border=\"1\" class=\"dataframe\">\n",
       "  <thead>\n",
       "    <tr style=\"text-align: right;\">\n",
       "      <th></th>\n",
       "      <th>review_title</th>\n",
       "      <th>review_date</th>\n",
       "      <th>reviewer</th>\n",
       "      <th>hotel_name</th>\n",
       "      <th>hotel_avg_rating</th>\n",
       "      <th>nationality</th>\n",
       "      <th>rating</th>\n",
       "      <th>review_text</th>\n",
       "      <th>raw_review_text</th>\n",
       "      <th>quarter</th>\n",
       "      <th>hotel_type</th>\n",
       "      <th>nights_stayed</th>\n",
       "      <th>room_type</th>\n",
       "      <th>traveller_type</th>\n",
       "      <th>price_per_night</th>\n",
       "      <th>total_spending</th>\n",
       "      <th>booking_freq</th>\n",
       "    </tr>\n",
       "  </thead>\n",
       "  <tbody>\n",
       "    <tr>\n",
       "      <th>0</th>\n",
       "      <td>Exceptional</td>\n",
       "      <td>2020-03-14</td>\n",
       "      <td>Vivian</td>\n",
       "      <td>Marivaux Hotel</td>\n",
       "      <td>8.5</td>\n",
       "      <td>Singapore</td>\n",
       "      <td>10.0</td>\n",
       "      <td>Staff ap friendly and Helpful. Thank you</td>\n",
       "      <td>&lt;p class=\"review_pos \"&gt;&lt;svg aria-label=\"Positi...</td>\n",
       "      <td>1</td>\n",
       "      <td>Hotel</td>\n",
       "      <td>2</td>\n",
       "      <td>Standard Double or Twin Room</td>\n",
       "      <td>Couple</td>\n",
       "      <td>99</td>\n",
       "      <td>198</td>\n",
       "      <td>1.0</td>\n",
       "    </tr>\n",
       "    <tr>\n",
       "      <th>1</th>\n",
       "      <td>Very good</td>\n",
       "      <td>2020-03-12</td>\n",
       "      <td>Duncan</td>\n",
       "      <td>Marivaux Hotel</td>\n",
       "      <td>8.5</td>\n",
       "      <td>United Kingdom</td>\n",
       "      <td>8.0</td>\n",
       "      <td>Windows opened onto a deep light-well so littl...</td>\n",
       "      <td>&lt;p class=\"review_neg \"&gt;&lt;svg aria-label=\"Negati...</td>\n",
       "      <td>1</td>\n",
       "      <td>Hotel</td>\n",
       "      <td>2</td>\n",
       "      <td>Standard Double or Twin Room</td>\n",
       "      <td>Solo traveller</td>\n",
       "      <td>99</td>\n",
       "      <td>198</td>\n",
       "      <td>1.0</td>\n",
       "    </tr>\n",
       "    <tr>\n",
       "      <th>2</th>\n",
       "      <td>Typical Conference Hotel close to Brussels Noo...</td>\n",
       "      <td>2020-03-11</td>\n",
       "      <td>Simon</td>\n",
       "      <td>Marivaux Hotel</td>\n",
       "      <td>8.5</td>\n",
       "      <td>Germany</td>\n",
       "      <td>8.0</td>\n",
       "      <td>breakfast did not provide a lot of selection a...</td>\n",
       "      <td>&lt;p class=\"review_neg \"&gt;&lt;svg aria-label=\"Negati...</td>\n",
       "      <td>1</td>\n",
       "      <td>Hotel</td>\n",
       "      <td>1</td>\n",
       "      <td>Standard Single Room</td>\n",
       "      <td>Solo traveller</td>\n",
       "      <td>84</td>\n",
       "      <td>84</td>\n",
       "      <td>1.0</td>\n",
       "    </tr>\n",
       "    <tr>\n",
       "      <th>3</th>\n",
       "      <td>Close to metro station</td>\n",
       "      <td>2020-03-11</td>\n",
       "      <td>Gergő</td>\n",
       "      <td>Marivaux Hotel</td>\n",
       "      <td>8.5</td>\n",
       "      <td>Hungary</td>\n",
       "      <td>9.0</td>\n",
       "      <td>none,\\n\\nRoom, location, breakfast - everythin...</td>\n",
       "      <td>&lt;p class=\"review_neg \"&gt;&lt;svg aria-label=\"Negati...</td>\n",
       "      <td>1</td>\n",
       "      <td>Hotel</td>\n",
       "      <td>1</td>\n",
       "      <td>Deluxe Double Room</td>\n",
       "      <td>Solo traveller</td>\n",
       "      <td>119</td>\n",
       "      <td>119</td>\n",
       "      <td>1.0</td>\n",
       "    </tr>\n",
       "    <tr>\n",
       "      <th>4</th>\n",
       "      <td>Fabulous</td>\n",
       "      <td>2020-03-09</td>\n",
       "      <td>Oleg</td>\n",
       "      <td>Marivaux Hotel</td>\n",
       "      <td>8.5</td>\n",
       "      <td>Germany</td>\n",
       "      <td>8.8</td>\n",
       "      <td>Unique style, and secret parking made my day</td>\n",
       "      <td>&lt;p class=\"review_pos \"&gt;&lt;svg aria-label=\"Positi...</td>\n",
       "      <td>1</td>\n",
       "      <td>Hotel</td>\n",
       "      <td>1</td>\n",
       "      <td>Standard Double or Twin Room</td>\n",
       "      <td>People with friends</td>\n",
       "      <td>99</td>\n",
       "      <td>99</td>\n",
       "      <td>1.0</td>\n",
       "    </tr>\n",
       "  </tbody>\n",
       "</table>\n",
       "</div>"
      ],
      "text/plain": [
       "                                        review_title review_date reviewer  \\\n",
       "0                                        Exceptional  2020-03-14   Vivian   \n",
       "1                                          Very good  2020-03-12   Duncan   \n",
       "2  Typical Conference Hotel close to Brussels Noo...  2020-03-11    Simon   \n",
       "3                             Close to metro station  2020-03-11    Gergő   \n",
       "4                                           Fabulous  2020-03-09     Oleg   \n",
       "\n",
       "       hotel_name  hotel_avg_rating     nationality  rating  \\\n",
       "0  Marivaux Hotel               8.5       Singapore    10.0   \n",
       "1  Marivaux Hotel               8.5  United Kingdom     8.0   \n",
       "2  Marivaux Hotel               8.5         Germany     8.0   \n",
       "3  Marivaux Hotel               8.5         Hungary     9.0   \n",
       "4  Marivaux Hotel               8.5         Germany     8.8   \n",
       "\n",
       "                                         review_text  \\\n",
       "0           Staff ap friendly and Helpful. Thank you   \n",
       "1  Windows opened onto a deep light-well so littl...   \n",
       "2  breakfast did not provide a lot of selection a...   \n",
       "3  none,\\n\\nRoom, location, breakfast - everythin...   \n",
       "4       Unique style, and secret parking made my day   \n",
       "\n",
       "                                     raw_review_text quarter hotel_type  \\\n",
       "0  <p class=\"review_pos \"><svg aria-label=\"Positi...       1      Hotel   \n",
       "1  <p class=\"review_neg \"><svg aria-label=\"Negati...       1      Hotel   \n",
       "2  <p class=\"review_neg \"><svg aria-label=\"Negati...       1      Hotel   \n",
       "3  <p class=\"review_neg \"><svg aria-label=\"Negati...       1      Hotel   \n",
       "4  <p class=\"review_pos \"><svg aria-label=\"Positi...       1      Hotel   \n",
       "\n",
       "   nights_stayed                     room_type       traveller_type  \\\n",
       "0              2  Standard Double or Twin Room               Couple   \n",
       "1              2  Standard Double or Twin Room       Solo traveller   \n",
       "2              1          Standard Single Room       Solo traveller   \n",
       "3              1            Deluxe Double Room       Solo traveller   \n",
       "4              1  Standard Double or Twin Room  People with friends   \n",
       "\n",
       "   price_per_night  total_spending  booking_freq  \n",
       "0               99             198           1.0  \n",
       "1               99             198           1.0  \n",
       "2               84              84           1.0  \n",
       "3              119             119           1.0  \n",
       "4               99              99           1.0  "
      ]
     },
     "execution_count": 44,
     "metadata": {},
     "output_type": "execute_result"
    }
   ],
   "source": [
    "# Booking frequency column\n",
    "temp = df2.groupby(['reviewer', 'nationality'], as_index=False).size().sort_values('size', ascending=False)\n",
    "temp = temp.loc[temp['reviewer'] != 'Anonymous']\n",
    "\n",
    "df2 = pd.merge(df2, temp, on=['reviewer', 'nationality'], how='left')\n",
    "df2[['size']] = df2[['size']].fillna(value=1)  #reviewers who are 'Anonymous'\n",
    "df2.rename(columns={'size': 'booking_freq'}, inplace = True)\n",
    "\n",
    "df2.head()"
   ]
  },
  {
   "cell_type": "code",
   "execution_count": 45,
   "metadata": {},
   "outputs": [
    {
     "data": {
      "text/plain": [
       "(1980, 17)"
      ]
     },
     "execution_count": 45,
     "metadata": {},
     "output_type": "execute_result"
    }
   ],
   "source": [
    "df2.shape"
   ]
  },
  {
   "cell_type": "code",
   "execution_count": 46,
   "metadata": {
    "colab": {
     "base_uri": "https://localhost:8080/"
    },
    "id": "vD4lG5n8oOKi",
    "outputId": "2a4f180f-d1c2-41ae-8c01-59abcba4dfc2"
   },
   "outputs": [
    {
     "data": {
      "text/plain": [
       "review_title                object\n",
       "review_date         datetime64[ns]\n",
       "reviewer                    object\n",
       "hotel_name                  object\n",
       "hotel_avg_rating           float64\n",
       "nationality                 object\n",
       "rating                     float64\n",
       "review_text                 object\n",
       "raw_review_text             object\n",
       "quarter                   category\n",
       "hotel_type                  object\n",
       "nights_stayed                int64\n",
       "room_type                   object\n",
       "traveller_type              object\n",
       "price_per_night              int64\n",
       "total_spending               int32\n",
       "booking_freq               float64\n",
       "dtype: object"
      ]
     },
     "execution_count": 46,
     "metadata": {},
     "output_type": "execute_result"
    }
   ],
   "source": [
    "df2.dtypes"
   ]
  },
  {
   "cell_type": "code",
   "execution_count": 47,
   "metadata": {
    "colab": {
     "base_uri": "https://localhost:8080/",
     "height": 295
    },
    "id": "S2BeBYfaoRsb",
    "outputId": "3177892c-a6b5-4670-d0b4-d089cbc0a0b1"
   },
   "outputs": [
    {
     "data": {
      "text/html": [
       "<div>\n",
       "<style scoped>\n",
       "    .dataframe tbody tr th:only-of-type {\n",
       "        vertical-align: middle;\n",
       "    }\n",
       "\n",
       "    .dataframe tbody tr th {\n",
       "        vertical-align: top;\n",
       "    }\n",
       "\n",
       "    .dataframe thead th {\n",
       "        text-align: right;\n",
       "    }\n",
       "</style>\n",
       "<table border=\"1\" class=\"dataframe\">\n",
       "  <thead>\n",
       "    <tr style=\"text-align: right;\">\n",
       "      <th></th>\n",
       "      <th>hotel_avg_rating</th>\n",
       "      <th>rating</th>\n",
       "      <th>nights_stayed</th>\n",
       "      <th>price_per_night</th>\n",
       "      <th>total_spending</th>\n",
       "      <th>booking_freq</th>\n",
       "    </tr>\n",
       "  </thead>\n",
       "  <tbody>\n",
       "    <tr>\n",
       "      <th>count</th>\n",
       "      <td>1980.000000</td>\n",
       "      <td>1980.000000</td>\n",
       "      <td>1980.000000</td>\n",
       "      <td>1980.000000</td>\n",
       "      <td>1980.000000</td>\n",
       "      <td>1980.00000</td>\n",
       "    </tr>\n",
       "    <tr>\n",
       "      <th>mean</th>\n",
       "      <td>8.592980</td>\n",
       "      <td>8.677879</td>\n",
       "      <td>1.892929</td>\n",
       "      <td>156.174242</td>\n",
       "      <td>296.438889</td>\n",
       "      <td>1.49596</td>\n",
       "    </tr>\n",
       "    <tr>\n",
       "      <th>std</th>\n",
       "      <td>0.393461</td>\n",
       "      <td>1.482277</td>\n",
       "      <td>1.185925</td>\n",
       "      <td>62.524032</td>\n",
       "      <td>237.237301</td>\n",
       "      <td>1.45628</td>\n",
       "    </tr>\n",
       "    <tr>\n",
       "      <th>min</th>\n",
       "      <td>7.800000</td>\n",
       "      <td>1.000000</td>\n",
       "      <td>1.000000</td>\n",
       "      <td>84.000000</td>\n",
       "      <td>84.000000</td>\n",
       "      <td>1.00000</td>\n",
       "    </tr>\n",
       "    <tr>\n",
       "      <th>25%</th>\n",
       "      <td>8.400000</td>\n",
       "      <td>8.000000</td>\n",
       "      <td>1.000000</td>\n",
       "      <td>108.000000</td>\n",
       "      <td>143.000000</td>\n",
       "      <td>1.00000</td>\n",
       "    </tr>\n",
       "    <tr>\n",
       "      <th>50%</th>\n",
       "      <td>8.500000</td>\n",
       "      <td>9.000000</td>\n",
       "      <td>2.000000</td>\n",
       "      <td>143.000000</td>\n",
       "      <td>222.000000</td>\n",
       "      <td>1.00000</td>\n",
       "    </tr>\n",
       "    <tr>\n",
       "      <th>75%</th>\n",
       "      <td>8.900000</td>\n",
       "      <td>10.000000</td>\n",
       "      <td>2.000000</td>\n",
       "      <td>178.500000</td>\n",
       "      <td>356.000000</td>\n",
       "      <td>1.00000</td>\n",
       "    </tr>\n",
       "    <tr>\n",
       "      <th>max</th>\n",
       "      <td>9.500000</td>\n",
       "      <td>10.000000</td>\n",
       "      <td>16.000000</td>\n",
       "      <td>1008.000000</td>\n",
       "      <td>3024.000000</td>\n",
       "      <td>11.00000</td>\n",
       "    </tr>\n",
       "  </tbody>\n",
       "</table>\n",
       "</div>"
      ],
      "text/plain": [
       "       hotel_avg_rating       rating  nights_stayed  price_per_night  \\\n",
       "count       1980.000000  1980.000000    1980.000000      1980.000000   \n",
       "mean           8.592980     8.677879       1.892929       156.174242   \n",
       "std            0.393461     1.482277       1.185925        62.524032   \n",
       "min            7.800000     1.000000       1.000000        84.000000   \n",
       "25%            8.400000     8.000000       1.000000       108.000000   \n",
       "50%            8.500000     9.000000       2.000000       143.000000   \n",
       "75%            8.900000    10.000000       2.000000       178.500000   \n",
       "max            9.500000    10.000000      16.000000      1008.000000   \n",
       "\n",
       "       total_spending  booking_freq  \n",
       "count     1980.000000    1980.00000  \n",
       "mean       296.438889       1.49596  \n",
       "std        237.237301       1.45628  \n",
       "min         84.000000       1.00000  \n",
       "25%        143.000000       1.00000  \n",
       "50%        222.000000       1.00000  \n",
       "75%        356.000000       1.00000  \n",
       "max       3024.000000      11.00000  "
      ]
     },
     "execution_count": 47,
     "metadata": {},
     "output_type": "execute_result"
    }
   ],
   "source": [
    "df2.describe()"
   ]
  },
  {
   "cell_type": "code",
   "execution_count": 48,
   "metadata": {
    "colab": {
     "base_uri": "https://localhost:8080/",
     "height": 234
    },
    "id": "QYltAht4kmVT",
    "outputId": "92ff3975-9bf7-4b9e-9a34-8c2a39e2ae36"
   },
   "outputs": [
    {
     "data": {
      "text/html": [
       "<div>\n",
       "<style scoped>\n",
       "    .dataframe tbody tr th:only-of-type {\n",
       "        vertical-align: middle;\n",
       "    }\n",
       "\n",
       "    .dataframe tbody tr th {\n",
       "        vertical-align: top;\n",
       "    }\n",
       "\n",
       "    .dataframe thead th {\n",
       "        text-align: right;\n",
       "    }\n",
       "</style>\n",
       "<table border=\"1\" class=\"dataframe\">\n",
       "  <thead>\n",
       "    <tr style=\"text-align: right;\">\n",
       "      <th></th>\n",
       "      <th>hotel_avg_rating</th>\n",
       "      <th>rating</th>\n",
       "      <th>nights_stayed</th>\n",
       "      <th>price_per_night</th>\n",
       "      <th>total_spending</th>\n",
       "      <th>booking_freq</th>\n",
       "    </tr>\n",
       "  </thead>\n",
       "  <tbody>\n",
       "    <tr>\n",
       "      <th>hotel_avg_rating</th>\n",
       "      <td>1.000000</td>\n",
       "      <td>0.304380</td>\n",
       "      <td>-0.016664</td>\n",
       "      <td>0.541151</td>\n",
       "      <td>0.252142</td>\n",
       "      <td>0.076012</td>\n",
       "    </tr>\n",
       "    <tr>\n",
       "      <th>rating</th>\n",
       "      <td>0.304380</td>\n",
       "      <td>1.000000</td>\n",
       "      <td>-0.024689</td>\n",
       "      <td>0.168426</td>\n",
       "      <td>0.075006</td>\n",
       "      <td>0.058012</td>\n",
       "    </tr>\n",
       "    <tr>\n",
       "      <th>nights_stayed</th>\n",
       "      <td>-0.016664</td>\n",
       "      <td>-0.024689</td>\n",
       "      <td>1.000000</td>\n",
       "      <td>0.010958</td>\n",
       "      <td>0.802198</td>\n",
       "      <td>0.016427</td>\n",
       "    </tr>\n",
       "    <tr>\n",
       "      <th>price_per_night</th>\n",
       "      <td>0.541151</td>\n",
       "      <td>0.168426</td>\n",
       "      <td>0.010958</td>\n",
       "      <td>1.000000</td>\n",
       "      <td>0.530241</td>\n",
       "      <td>0.094809</td>\n",
       "    </tr>\n",
       "    <tr>\n",
       "      <th>total_spending</th>\n",
       "      <td>0.252142</td>\n",
       "      <td>0.075006</td>\n",
       "      <td>0.802198</td>\n",
       "      <td>0.530241</td>\n",
       "      <td>1.000000</td>\n",
       "      <td>0.070894</td>\n",
       "    </tr>\n",
       "    <tr>\n",
       "      <th>booking_freq</th>\n",
       "      <td>0.076012</td>\n",
       "      <td>0.058012</td>\n",
       "      <td>0.016427</td>\n",
       "      <td>0.094809</td>\n",
       "      <td>0.070894</td>\n",
       "      <td>1.000000</td>\n",
       "    </tr>\n",
       "  </tbody>\n",
       "</table>\n",
       "</div>"
      ],
      "text/plain": [
       "                  hotel_avg_rating    rating  nights_stayed  price_per_night  \\\n",
       "hotel_avg_rating          1.000000  0.304380      -0.016664         0.541151   \n",
       "rating                    0.304380  1.000000      -0.024689         0.168426   \n",
       "nights_stayed            -0.016664 -0.024689       1.000000         0.010958   \n",
       "price_per_night           0.541151  0.168426       0.010958         1.000000   \n",
       "total_spending            0.252142  0.075006       0.802198         0.530241   \n",
       "booking_freq              0.076012  0.058012       0.016427         0.094809   \n",
       "\n",
       "                  total_spending  booking_freq  \n",
       "hotel_avg_rating        0.252142      0.076012  \n",
       "rating                  0.075006      0.058012  \n",
       "nights_stayed           0.802198      0.016427  \n",
       "price_per_night         0.530241      0.094809  \n",
       "total_spending          1.000000      0.070894  \n",
       "booking_freq            0.070894      1.000000  "
      ]
     },
     "execution_count": 48,
     "metadata": {},
     "output_type": "execute_result"
    }
   ],
   "source": [
    "# Correlation matrix of numerical variables\n",
    "corrs = df2.corr()\n",
    "corrs"
   ]
  },
  {
   "cell_type": "code",
   "execution_count": 49,
   "metadata": {
    "colab": {
     "base_uri": "https://localhost:8080/",
     "height": 560
    },
    "id": "iODzJJAifQjV",
    "outputId": "8da44198-bc7d-412e-a961-f7e146bc70f1"
   },
   "outputs": [
    {
     "data": {
      "image/png": "[encoded data removed]",
      "text/plain": [
       "<Figure size 720x576 with 2 Axes>"
      ]
     },
     "metadata": {
      "needs_background": "light"
     },
     "output_type": "display_data"
    }
   ],
   "source": [
    "# Heatmap of correlations\n",
    "plt.figure(figsize=(10,8))\n",
    "sns.heatmap(corrs, annot=True)\n",
    "plt.savefig('heatmap.png', bbox_inches=\"tight\")\n",
    "plt.show()"
   ]
  },
  {
   "cell_type": "code",
   "execution_count": 50,
   "metadata": {
    "colab": {
     "base_uri": "https://localhost:8080/",
     "height": 840
    },
    "id": "Rp87ft6Fn0pb",
    "outputId": "ef55ca64-dd6a-42f3-dcef-d3e2854db4ca"
   },
   "outputs": [
    {
     "data": {
      "image/png": "[encoded data removed]",
      "text/plain": [
       "<Figure size 1008x1008 with 9 Axes>"
      ]
     },
     "metadata": {
      "needs_background": "light"
     },
     "output_type": "display_data"
    }
   ],
   "source": [
    "# Histogram of numerical variables\n",
    "df2.hist(grid = False, figsize=(14,14), xrot=45)\n",
    "plt.savefig('histogram.png', bbox_inches=\"tight\")\n",
    "plt.show()"
   ]
  },
  {
   "cell_type": "code",
   "execution_count": 57,
   "metadata": {
    "colab": {
     "base_uri": "https://localhost:8080/",
     "height": 803
    },
    "id": "de_vj3N4UrNv",
    "outputId": "207ce026-8697-4d5f-b26c-dc7b55b5c3ca"
   },
   "outputs": [
    {
     "data": {
      "image/png": "[encoded data removed]",
      "text/plain": [
       "<Figure size 432x288 with 1 Axes>"
      ]
     },
     "metadata": {
      "needs_background": "light"
     },
     "output_type": "display_data"
    },
    {
     "data": {
      "image/png": "[encoded data removed]",
      "text/plain": [
       "<Figure size 432x288 with 1 Axes>"
      ]
     },
     "metadata": {
      "needs_background": "light"
     },
     "output_type": "display_data"
    }
   ],
   "source": [
    "# Plots of categorical variables with 20 and fewer unnique classes\n",
    "for column in df2.drop('hotel_type', 1).select_dtypes(include='object'):\n",
    "    if df2[column].nunique() <= 20:\n",
    "        sns.countplot(y=column, palette = 'pastel', data=df2, order = df2[column].value_counts().index )\n",
    "        plt.savefig('hotelname.png', bbox_inches=\"tight\")\n",
    "        plt.show()"
   ]
  },
  {
   "cell_type": "code",
   "execution_count": 52,
   "metadata": {},
   "outputs": [
    {
     "data": {
      "text/html": [
       "<div>\n",
       "<style scoped>\n",
       "    .dataframe tbody tr th:only-of-type {\n",
       "        vertical-align: middle;\n",
       "    }\n",
       "\n",
       "    .dataframe tbody tr th {\n",
       "        vertical-align: top;\n",
       "    }\n",
       "\n",
       "    .dataframe thead th {\n",
       "        text-align: right;\n",
       "    }\n",
       "</style>\n",
       "<table border=\"1\" class=\"dataframe\">\n",
       "  <thead>\n",
       "    <tr style=\"text-align: right;\">\n",
       "      <th></th>\n",
       "      <th>review_title</th>\n",
       "      <th>review_date</th>\n",
       "      <th>reviewer</th>\n",
       "      <th>hotel_name</th>\n",
       "      <th>hotel_avg_rating</th>\n",
       "      <th>nationality</th>\n",
       "      <th>rating</th>\n",
       "      <th>review_text</th>\n",
       "      <th>raw_review_text</th>\n",
       "      <th>quarter</th>\n",
       "      <th>hotel_type</th>\n",
       "      <th>nights_stayed</th>\n",
       "      <th>room_type</th>\n",
       "      <th>traveller_type</th>\n",
       "      <th>price_per_night</th>\n",
       "      <th>total_spending</th>\n",
       "      <th>booking_freq</th>\n",
       "      <th>avg_price_per_night</th>\n",
       "    </tr>\n",
       "  </thead>\n",
       "  <tbody>\n",
       "    <tr>\n",
       "      <th>0</th>\n",
       "      <td>Exceptional</td>\n",
       "      <td>2020-03-14</td>\n",
       "      <td>Vivian</td>\n",
       "      <td>Marivaux Hotel</td>\n",
       "      <td>8.5</td>\n",
       "      <td>Singapore</td>\n",
       "      <td>10.0</td>\n",
       "      <td>Staff ap friendly and Helpful. Thank you</td>\n",
       "      <td>&lt;p class=\"review_pos \"&gt;&lt;svg aria-label=\"Positi...</td>\n",
       "      <td>1</td>\n",
       "      <td>Hotel</td>\n",
       "      <td>2</td>\n",
       "      <td>Standard Double or Twin Room</td>\n",
       "      <td>Couple</td>\n",
       "      <td>99</td>\n",
       "      <td>198</td>\n",
       "      <td>1.0</td>\n",
       "      <td>110.25</td>\n",
       "    </tr>\n",
       "    <tr>\n",
       "      <th>1</th>\n",
       "      <td>Very good</td>\n",
       "      <td>2020-03-12</td>\n",
       "      <td>Duncan</td>\n",
       "      <td>Marivaux Hotel</td>\n",
       "      <td>8.5</td>\n",
       "      <td>United Kingdom</td>\n",
       "      <td>8.0</td>\n",
       "      <td>Windows opened onto a deep light-well so littl...</td>\n",
       "      <td>&lt;p class=\"review_neg \"&gt;&lt;svg aria-label=\"Negati...</td>\n",
       "      <td>1</td>\n",
       "      <td>Hotel</td>\n",
       "      <td>2</td>\n",
       "      <td>Standard Double or Twin Room</td>\n",
       "      <td>Solo traveller</td>\n",
       "      <td>99</td>\n",
       "      <td>198</td>\n",
       "      <td>1.0</td>\n",
       "      <td>110.25</td>\n",
       "    </tr>\n",
       "    <tr>\n",
       "      <th>2</th>\n",
       "      <td>Typical Conference Hotel close to Brussels Noo...</td>\n",
       "      <td>2020-03-11</td>\n",
       "      <td>Simon</td>\n",
       "      <td>Marivaux Hotel</td>\n",
       "      <td>8.5</td>\n",
       "      <td>Germany</td>\n",
       "      <td>8.0</td>\n",
       "      <td>breakfast did not provide a lot of selection a...</td>\n",
       "      <td>&lt;p class=\"review_neg \"&gt;&lt;svg aria-label=\"Negati...</td>\n",
       "      <td>1</td>\n",
       "      <td>Hotel</td>\n",
       "      <td>1</td>\n",
       "      <td>Standard Single Room</td>\n",
       "      <td>Solo traveller</td>\n",
       "      <td>84</td>\n",
       "      <td>84</td>\n",
       "      <td>1.0</td>\n",
       "      <td>110.25</td>\n",
       "    </tr>\n",
       "    <tr>\n",
       "      <th>3</th>\n",
       "      <td>Close to metro station</td>\n",
       "      <td>2020-03-11</td>\n",
       "      <td>Gergő</td>\n",
       "      <td>Marivaux Hotel</td>\n",
       "      <td>8.5</td>\n",
       "      <td>Hungary</td>\n",
       "      <td>9.0</td>\n",
       "      <td>none,\\n\\nRoom, location, breakfast - everythin...</td>\n",
       "      <td>&lt;p class=\"review_neg \"&gt;&lt;svg aria-label=\"Negati...</td>\n",
       "      <td>1</td>\n",
       "      <td>Hotel</td>\n",
       "      <td>1</td>\n",
       "      <td>Deluxe Double Room</td>\n",
       "      <td>Solo traveller</td>\n",
       "      <td>119</td>\n",
       "      <td>119</td>\n",
       "      <td>1.0</td>\n",
       "      <td>110.25</td>\n",
       "    </tr>\n",
       "    <tr>\n",
       "      <th>4</th>\n",
       "      <td>Fabulous</td>\n",
       "      <td>2020-03-09</td>\n",
       "      <td>Oleg</td>\n",
       "      <td>Marivaux Hotel</td>\n",
       "      <td>8.5</td>\n",
       "      <td>Germany</td>\n",
       "      <td>8.8</td>\n",
       "      <td>Unique style, and secret parking made my day</td>\n",
       "      <td>&lt;p class=\"review_pos \"&gt;&lt;svg aria-label=\"Positi...</td>\n",
       "      <td>1</td>\n",
       "      <td>Hotel</td>\n",
       "      <td>1</td>\n",
       "      <td>Standard Double or Twin Room</td>\n",
       "      <td>People with friends</td>\n",
       "      <td>99</td>\n",
       "      <td>99</td>\n",
       "      <td>1.0</td>\n",
       "      <td>110.25</td>\n",
       "    </tr>\n",
       "  </tbody>\n",
       "</table>\n",
       "</div>"
      ],
      "text/plain": [
       "                                        review_title review_date reviewer  \\\n",
       "0                                        Exceptional  2020-03-14   Vivian   \n",
       "1                                          Very good  2020-03-12   Duncan   \n",
       "2  Typical Conference Hotel close to Brussels Noo...  2020-03-11    Simon   \n",
       "3                             Close to metro station  2020-03-11    Gergő   \n",
       "4                                           Fabulous  2020-03-09     Oleg   \n",
       "\n",
       "       hotel_name  hotel_avg_rating     nationality  rating  \\\n",
       "0  Marivaux Hotel               8.5       Singapore    10.0   \n",
       "1  Marivaux Hotel               8.5  United Kingdom     8.0   \n",
       "2  Marivaux Hotel               8.5         Germany     8.0   \n",
       "3  Marivaux Hotel               8.5         Hungary     9.0   \n",
       "4  Marivaux Hotel               8.5         Germany     8.8   \n",
       "\n",
       "                                         review_text  \\\n",
       "0           Staff ap friendly and Helpful. Thank you   \n",
       "1  Windows opened onto a deep light-well so littl...   \n",
       "2  breakfast did not provide a lot of selection a...   \n",
       "3  none,\\n\\nRoom, location, breakfast - everythin...   \n",
       "4       Unique style, and secret parking made my day   \n",
       "\n",
       "                                     raw_review_text quarter hotel_type  \\\n",
       "0  <p class=\"review_pos \"><svg aria-label=\"Positi...       1      Hotel   \n",
       "1  <p class=\"review_neg \"><svg aria-label=\"Negati...       1      Hotel   \n",
       "2  <p class=\"review_neg \"><svg aria-label=\"Negati...       1      Hotel   \n",
       "3  <p class=\"review_neg \"><svg aria-label=\"Negati...       1      Hotel   \n",
       "4  <p class=\"review_pos \"><svg aria-label=\"Positi...       1      Hotel   \n",
       "\n",
       "   nights_stayed                     room_type       traveller_type  \\\n",
       "0              2  Standard Double or Twin Room               Couple   \n",
       "1              2  Standard Double or Twin Room       Solo traveller   \n",
       "2              1          Standard Single Room       Solo traveller   \n",
       "3              1            Deluxe Double Room       Solo traveller   \n",
       "4              1  Standard Double or Twin Room  People with friends   \n",
       "\n",
       "   price_per_night  total_spending  booking_freq  avg_price_per_night  \n",
       "0               99             198           1.0               110.25  \n",
       "1               99             198           1.0               110.25  \n",
       "2               84              84           1.0               110.25  \n",
       "3              119             119           1.0               110.25  \n",
       "4               99              99           1.0               110.25  "
      ]
     },
     "execution_count": 52,
     "metadata": {},
     "output_type": "execute_result"
    }
   ],
   "source": [
    "#Avg Price Per Night for each hotel column (for percuptual map)\n",
    "df2['avg_price_per_night'] = df2['hotel_name'].map(df2.groupby(['hotel_name'])['price_per_night'].agg(lambda x: x.unique().mean()))\n",
    "df2.head()"
   ]
  },
  {
   "cell_type": "code",
   "execution_count": 53,
   "metadata": {},
   "outputs": [
    {
     "data": {
      "text/html": [
       "<div>\n",
       "<style scoped>\n",
       "    .dataframe tbody tr th:only-of-type {\n",
       "        vertical-align: middle;\n",
       "    }\n",
       "\n",
       "    .dataframe tbody tr th {\n",
       "        vertical-align: top;\n",
       "    }\n",
       "\n",
       "    .dataframe thead th {\n",
       "        text-align: right;\n",
       "    }\n",
       "</style>\n",
       "<table border=\"1\" class=\"dataframe\">\n",
       "  <thead>\n",
       "    <tr style=\"text-align: right;\">\n",
       "      <th></th>\n",
       "      <th>hotel_name</th>\n",
       "      <th>avg_price_per_night</th>\n",
       "      <th>hotel_avg_rating</th>\n",
       "    </tr>\n",
       "  </thead>\n",
       "  <tbody>\n",
       "    <tr>\n",
       "      <th>0</th>\n",
       "      <td>Marivaux Hotel</td>\n",
       "      <td>110.250000</td>\n",
       "      <td>8.5</td>\n",
       "    </tr>\n",
       "    <tr>\n",
       "      <th>128</th>\n",
       "      <td>Hotel Bourgoensch Hof</td>\n",
       "      <td>172.800000</td>\n",
       "      <td>8.4</td>\n",
       "    </tr>\n",
       "    <tr>\n",
       "      <th>309</th>\n",
       "      <td>Hotel Royal</td>\n",
       "      <td>202.000000</td>\n",
       "      <td>9.0</td>\n",
       "    </tr>\n",
       "    <tr>\n",
       "      <th>449</th>\n",
       "      <td>ManavaHotel</td>\n",
       "      <td>109.500000</td>\n",
       "      <td>9.2</td>\n",
       "    </tr>\n",
       "    <tr>\n",
       "      <th>452</th>\n",
       "      <td>Hotel Dolce La Hulpe Brussels</td>\n",
       "      <td>162.250000</td>\n",
       "      <td>8.4</td>\n",
       "    </tr>\n",
       "    <tr>\n",
       "      <th>536</th>\n",
       "      <td>Pillows Grand Boutique Hotel Place Rouppe Brus...</td>\n",
       "      <td>155.000000</td>\n",
       "      <td>9.0</td>\n",
       "    </tr>\n",
       "    <tr>\n",
       "      <th>876</th>\n",
       "      <td>Grand Hotel Belle Vue</td>\n",
       "      <td>241.333333</td>\n",
       "      <td>9.0</td>\n",
       "    </tr>\n",
       "    <tr>\n",
       "      <th>923</th>\n",
       "      <td>Hotel De Castillion - Small elegant family hotel</td>\n",
       "      <td>260.571429</td>\n",
       "      <td>9.5</td>\n",
       "    </tr>\n",
       "    <tr>\n",
       "      <th>997</th>\n",
       "      <td>Mercure Hotel Brussels Centre Midi</td>\n",
       "      <td>128.000000</td>\n",
       "      <td>7.8</td>\n",
       "    </tr>\n",
       "    <tr>\n",
       "      <th>1100</th>\n",
       "      <td>ABC Hotel</td>\n",
       "      <td>228.000000</td>\n",
       "      <td>9.5</td>\n",
       "    </tr>\n",
       "    <tr>\n",
       "      <th>1168</th>\n",
       "      <td>Hotel Le Châtelain</td>\n",
       "      <td>258.000000</td>\n",
       "      <td>8.9</td>\n",
       "    </tr>\n",
       "    <tr>\n",
       "      <th>1221</th>\n",
       "      <td>Theater Hotel</td>\n",
       "      <td>123.500000</td>\n",
       "      <td>8.4</td>\n",
       "    </tr>\n",
       "    <tr>\n",
       "      <th>1386</th>\n",
       "      <td>Van der Valk Hotel Antwerpen</td>\n",
       "      <td>172.400000</td>\n",
       "      <td>8.4</td>\n",
       "    </tr>\n",
       "    <tr>\n",
       "      <th>1435</th>\n",
       "      <td>Hotel B - Boskapelhoeve</td>\n",
       "      <td>212.500000</td>\n",
       "      <td>9.4</td>\n",
       "    </tr>\n",
       "    <tr>\n",
       "      <th>1500</th>\n",
       "      <td>Holiday Inn Hasselt, an IHG Hotel</td>\n",
       "      <td>209.166667</td>\n",
       "      <td>8.4</td>\n",
       "    </tr>\n",
       "    <tr>\n",
       "      <th>1573</th>\n",
       "      <td>Aparthotel Trilogie</td>\n",
       "      <td>201.666667</td>\n",
       "      <td>9.1</td>\n",
       "    </tr>\n",
       "    <tr>\n",
       "      <th>1597</th>\n",
       "      <td>Radisson Blu Hotel, Bruges</td>\n",
       "      <td>200.000000</td>\n",
       "      <td>8.5</td>\n",
       "    </tr>\n",
       "    <tr>\n",
       "      <th>1650</th>\n",
       "      <td>Renaissance Brussels Hotel</td>\n",
       "      <td>177.000000</td>\n",
       "      <td>8.2</td>\n",
       "    </tr>\n",
       "    <tr>\n",
       "      <th>1876</th>\n",
       "      <td>Hotel Bütgenbacher Hof</td>\n",
       "      <td>248.800000</td>\n",
       "      <td>9.1</td>\n",
       "    </tr>\n",
       "    <tr>\n",
       "      <th>1900</th>\n",
       "      <td>Rocco Forte Hotel Amigo</td>\n",
       "      <td>550.600000</td>\n",
       "      <td>9.1</td>\n",
       "    </tr>\n",
       "  </tbody>\n",
       "</table>\n",
       "</div>"
      ],
      "text/plain": [
       "                                             hotel_name  avg_price_per_night  \\\n",
       "0                                        Marivaux Hotel           110.250000   \n",
       "128                               Hotel Bourgoensch Hof           172.800000   \n",
       "309                                         Hotel Royal           202.000000   \n",
       "449                                         ManavaHotel           109.500000   \n",
       "452                       Hotel Dolce La Hulpe Brussels           162.250000   \n",
       "536   Pillows Grand Boutique Hotel Place Rouppe Brus...           155.000000   \n",
       "876                               Grand Hotel Belle Vue           241.333333   \n",
       "923    Hotel De Castillion - Small elegant family hotel           260.571429   \n",
       "997                  Mercure Hotel Brussels Centre Midi           128.000000   \n",
       "1100                                          ABC Hotel           228.000000   \n",
       "1168                                 Hotel Le Châtelain           258.000000   \n",
       "1221                                      Theater Hotel           123.500000   \n",
       "1386                       Van der Valk Hotel Antwerpen           172.400000   \n",
       "1435                            Hotel B - Boskapelhoeve           212.500000   \n",
       "1500                  Holiday Inn Hasselt, an IHG Hotel           209.166667   \n",
       "1573                                Aparthotel Trilogie           201.666667   \n",
       "1597                         Radisson Blu Hotel, Bruges           200.000000   \n",
       "1650                         Renaissance Brussels Hotel           177.000000   \n",
       "1876                             Hotel Bütgenbacher Hof           248.800000   \n",
       "1900                            Rocco Forte Hotel Amigo           550.600000   \n",
       "\n",
       "      hotel_avg_rating  \n",
       "0                  8.5  \n",
       "128                8.4  \n",
       "309                9.0  \n",
       "449                9.2  \n",
       "452                8.4  \n",
       "536                9.0  \n",
       "876                9.0  \n",
       "923                9.5  \n",
       "997                7.8  \n",
       "1100               9.5  \n",
       "1168               8.9  \n",
       "1221               8.4  \n",
       "1386               8.4  \n",
       "1435               9.4  \n",
       "1500               8.4  \n",
       "1573               9.1  \n",
       "1597               8.5  \n",
       "1650               8.2  \n",
       "1876               9.1  \n",
       "1900               9.1  "
      ]
     },
     "execution_count": 53,
     "metadata": {},
     "output_type": "execute_result"
    }
   ],
   "source": [
    "temp = df2[['hotel_name', 'avg_price_per_night', 'hotel_avg_rating']]\n",
    "temp.drop_duplicates()"
   ]
  },
  {
   "cell_type": "code",
   "execution_count": 54,
   "metadata": {},
   "outputs": [
    {
     "data": {
      "text/plain": [
       "8.592979797979666"
      ]
     },
     "execution_count": 54,
     "metadata": {},
     "output_type": "execute_result"
    }
   ],
   "source": [
    "# Determine axis for perceptual map\n",
    "temp['hotel_avg_rating'].mean()"
   ]
  },
  {
   "cell_type": "code",
   "execution_count": 55,
   "metadata": {},
   "outputs": [
    {
     "data": {
      "text/plain": [
       "185.534145021643"
      ]
     },
     "execution_count": 55,
     "metadata": {},
     "output_type": "execute_result"
    }
   ],
   "source": [
    "# Determine axis for perceptual map\n",
    "temp['avg_price_per_night'].mean()"
   ]
  },
  {
   "cell_type": "code",
   "execution_count": 59,
   "metadata": {},
   "outputs": [
    {
     "data": {
      "image/png": "[encoded data removed]",
      "text/plain": [
       "<Figure size 2160x1440 with 1 Axes>"
      ]
     },
     "metadata": {
      "needs_background": "light"
     },
     "output_type": "display_data"
    }
   ],
   "source": [
    "# Plot perceptual map\n",
    "fig, ax = plt.subplots()\n",
    "# plot\n",
    "ax.scatter(x=temp['hotel_avg_rating'],y=temp['avg_price_per_night'],c='DarkBlue')\n",
    "# set labels\n",
    "ax.set_xlabel('hotel_avg_rating')\n",
    "ax.set_ylabel('avg_price_per_night')\n",
    "# annotate points in axis\n",
    "for idx, row in temp.iterrows():\n",
    "    ax.annotate(row['hotel_name'], (row['hotel_avg_rating'], row['avg_price_per_night']) )\n",
    "# force matplotlib to draw the graph\n",
    "plt.axhline(y=185.5, color='r', linestyle='-')\n",
    "plt.axvline(x=8.6, color='r', linestyle='-')\n",
    "plt.rcParams['figure.figsize'] = 30,20\n",
    "plt.show()"
   ]
  }
 ],
 "metadata": {
  "colab": {
   "collapsed_sections": [],
   "name": "dsa3101 code.ipynb",
   "provenance": []
  },
  "kernelspec": {
   "display_name": "Python 3",
   "language": "python",
   "name": "python3"
  },
  "language_info": {
   "codemirror_mode": {
    "name": "ipython",
    "version": 3
   },
   "file_extension": ".py",
   "mimetype": "text/x-python",
   "name": "python",
   "nbconvert_exporter": "python",
   "pygments_lexer": "ipython3",
   "version": "3.8.8"
  }
 },
 "nbformat": 4,
 "nbformat_minor": 4
}
